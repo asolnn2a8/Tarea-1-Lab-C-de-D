{
 "cells": [
  {
   "cell_type": "markdown",
   "metadata": {},
   "source": [
    "# Pregunta 1, parte 1"
   ]
  },
  {
   "cell_type": "markdown",
   "metadata": {},
   "source": [
    "## Importacion"
   ]
  },
  {
   "cell_type": "markdown",
   "metadata": {},
   "source": [
    "Se importa el módulo `pandas`, y se importa un módulo personal llamado `paths`, que contiene los paths que utilizaremos en este análisis."
   ]
  },
  {
   "cell_type": "code",
   "execution_count": 1,
   "metadata": {},
   "outputs": [],
   "source": [
    "import pandas as pd\n",
    "\n",
    "from paths import *"
   ]
  },
  {
   "cell_type": "markdown",
   "metadata": {},
   "source": [
    "Esta es la documentación de `paths` (decomentar para verlas)."
   ]
  },
  {
   "cell_type": "code",
   "execution_count": null,
   "metadata": {},
   "outputs": [],
   "source": [
    "# Documentación del módulo 'paths'.\n",
    "# import paths\n",
    "# help(paths)"
   ]
  },
  {
   "cell_type": "markdown",
   "metadata": {},
   "source": [
    "## Carga de datos"
   ]
  },
  {
   "cell_type": "markdown",
   "metadata": {},
   "source": [
    "### Creación de la tabla mezclada"
   ]
  },
  {
   "cell_type": "markdown",
   "metadata": {},
   "source": [
    "Cargar todos los .csv en dos listas distinguidas por la aparición de `furnished` en el nombre."
   ]
  },
  {
   "cell_type": "code",
   "execution_count": 5,
   "metadata": {
    "scrolled": false
   },
   "outputs": [],
   "source": [
    "# Lista de DataFrames (Sin 'furnished' en el nombre)\n",
    "L_DF_a = [pd.read_csv(dict_csv_mc_a[wNN]) for wNN in L_WNN]\n",
    "\n",
    "# Lista de DataFrames (Con 'furnished' en el nombre)\n",
    "L_DF_f = [pd.read_csv(dict_csv_mc_f[wNN]) for wNN in L_WNN]"
   ]
  },
  {
   "cell_type": "markdown",
   "metadata": {},
   "source": [
    "Se unen los `DataFrames` de las listas en un único `DataFrame`, luego se crea una nueva columna llamada `'furnished'` y finalmente se unen los dos `DataFrames` en uno, con la nueva columna incluida."
   ]
  },
  {
   "cell_type": "code",
   "execution_count": 83,
   "metadata": {},
   "outputs": [],
   "source": [
    "# se unen todos los data_frame en cada lista con el comando concat\n",
    "DF_a = pd.concat(L_DF_a)\n",
    "DF_f = pd.concat(L_DF_f)\n",
    "\n",
    "# Se eliminan las filas duplicadas de cada data frame por separado\n",
    "DF_a.drop_duplicates(subset=DF_a.columns, ignore_index=True, inplace=True, keep='last')\n",
    "DF_f.drop_duplicates(subset=DF_f.columns, ignore_index=True, inplace=True, keep='last')\n",
    "\n",
    "# Se crea una columna con tantos ceros como la cantidad de filas de DF_a\n",
    "# y con tantos unos como la cantidad de filas de DF_f \n",
    "furnished_col = pd.DataFrame(data={'furnished':[0]*(DF_a.shape[0]) + [1]*(DF_f.shape[0])})\n",
    "\n",
    "# Concateno los data frames DF_a y DF_f y le agrego al final la columna furnished_col\n",
    "df = pd.concat([DF_a, DF_f], ignore_index=True) \n",
    "df = pd.concat([df, furnished_col], axis=1)"
   ]
  },
  {
   "cell_type": "code",
   "execution_count": 85,
   "metadata": {},
   "outputs": [],
   "source": [
    "# vemos cuantas filas tiene cada data frame (para reportar si hay filas en furnished \n",
    "# que no estan en all)\n",
    "# print(DF_a.shape[0])\n",
    "# print(DF_f.shape[0])\n",
    "# nota: DF_a tiene 16295 filas y DF_f tiene 2099 filas  "
   ]
  },
  {
   "cell_type": "markdown",
   "metadata": {},
   "source": [
    "Para terminar, se quitan las filas duplicadas en ambos grupos, furnished y all"
   ]
  },
  {
   "cell_type": "code",
   "execution_count": 87,
   "metadata": {},
   "outputs": [],
   "source": [
    "# Quitamos las filas que sean iguales en todas las columnas con excepcion de\n",
    "# la columna furnished y reindexamos\n",
    "df.drop_duplicates(subset=df.columns[:-1], ignore_index=True, inplace=True, keep='last')\n",
    "\n",
    "# comentario 1: si hay filas duplicadas con distintos valores de furnished, se eliminan las primera\n",
    "# comentario 2: el comentario 1 asegura que si hay dos filas iguales con distintos valores de furnished,\n",
    "# se elimine la que tiene el valor 0 para furnished, lo que tiene sentido dado que furnished puede estar\n",
    "# contenido en all"
   ]
  },
  {
   "cell_type": "code",
   "execution_count": 90,
   "metadata": {},
   "outputs": [],
   "source": [
    "# reportar si Reporte si existen observaciones de archivos con texto ’furnished’ que no estén\n",
    "# contenidos en archivos con texto ’all’\n",
    "# print(df[df['furnished'] == 0].shape[0])\n",
    "# print(df[df['furnished'] == 1].shape[0])\n",
    "# como ambas selecciones de filas en el dataframe tienen las mismas filas que los originales\n",
    "# luego de eliminar las filas iguales, se conluye que no hay filas en furnished que no esten\n",
    "# en all"
   ]
  },
  {
   "cell_type": "markdown",
   "metadata": {},
   "source": [
    "## Pregunta 1, parte 2"
   ]
  },
  {
   "cell_type": "markdown",
   "metadata": {},
   "source": [
    "### a) Limpieza de datos"
   ]
  },
  {
   "cell_type": "markdown",
   "metadata": {},
   "source": [
    "Se crea un diccionario llamado `valores_nulos` que contendrá el nombre de las columnas de `df` como llave, y el valor de la llave será lo que reemplazará el valor `NaN`."
   ]
  },
  {
   "cell_type": "code",
   "execution_count": 91,
   "metadata": {},
   "outputs": [],
   "source": [
    "# Creamos valores a reemplazar\n",
    "valores_nulos = {\n",
    "#     'property_type|rent_type|location':'Sin nombre',\n",
    "    'price':'$0',\n",
    "    'n_rooms':'NA',\n",
    "    'n_bath':'NA',\n",
    "    'surface':'0.0 m2',\n",
    "#     'details':'',\n",
    "#     'url':'',\n",
    "#     'metrocuadrado_index':0.0,\n",
    "#     'furnished':0\n",
    "}"
   ]
  },
  {
   "cell_type": "code",
   "execution_count": 92,
   "metadata": {},
   "outputs": [],
   "source": [
    "# Reemplazamos los valores\n",
    "df.fillna(value=valores_nulos, inplace=True)"
   ]
  },
  {
   "cell_type": "markdown",
   "metadata": {},
   "source": [
    "### b) Obtención de 3 columnas a partir de `'property_type|rent_type|location'`"
   ]
  },
  {
   "cell_type": "markdown",
   "metadata": {},
   "source": [
    "`lower_case_col` es una columna con todas las palabras en minusculas."
   ]
  },
  {
   "cell_type": "code",
   "execution_count": 93,
   "metadata": {},
   "outputs": [],
   "source": [
    "lower_case_col = df['property_type|rent_type|location'].str.lower()"
   ]
  },
  {
   "cell_type": "markdown",
   "metadata": {},
   "source": [
    "#### Columna `tipo de inmueble`"
   ]
  },
  {
   "cell_type": "code",
   "execution_count": 94,
   "metadata": {},
   "outputs": [],
   "source": [
    "# `casa_bool_col` y `apart_bool_col` son columnas que tienen un -1 si la palabra no está \n",
    "# y un número entero positivo si la palabra está.\n",
    "casa_bool_col = lower_case_col.str.find('casa')\n",
    "apart_bool_col = lower_case_col.str.find('apartamento')\n",
    "\n",
    "# Se crea una lista con la infomacion del tipo de inmueble recorriendo las dos columnas anteriores\n",
    "tipo_inm_list = []\n",
    "for index in range(len(lower_case_col)):\n",
    "    if casa_bool_col[index] >= 0:\n",
    "        tipo_inm_list.append('Casa')\n",
    "    elif apart_bool_col[index] >= 0:\n",
    "        tipo_inm_list.append('Apartamento')\n",
    "    else:\n",
    "        tipo_inm_list.append('No hay info')\n",
    "\n",
    "# columna de tipo de inmueble\n",
    "tipo_inm_col = pd.DataFrame(data = {'Tipo de inmueble': tipo_inm_list})\n",
    "\n",
    "# Nota: no hay columnas que no tengan una de las dos informaciones"
   ]
  },
  {
   "cell_type": "markdown",
   "metadata": {},
   "source": [
    "#### Columna `Tipo de oferta`\n",
    "\n"
   ]
  },
  {
   "cell_type": "code",
   "execution_count": 95,
   "metadata": {},
   "outputs": [],
   "source": [
    "# `vent_bool_col` y `arr_bool_col` son columnas que tienen un -1 si la palabra no está \n",
    "# y un número entero positivo si la palabra está.\n",
    "vent_bool_col = lower_case_col.str.find('venta')\n",
    "arr_bool_col = lower_case_col.str.find('arriendo')\n",
    "\n",
    "# Se crea una lista con la infomacion del tipo de oferta recorriendo las dos columnas anteriores\n",
    "tipo_ofer_list = []\n",
    "for index in range(len(lower_case_col)):\n",
    "    if (vent_bool_col[index] >= 0) and (arr_bool_col[index] >= 0):\n",
    "        tipo_ofer_list.append('Arriendo y venta')\n",
    "    elif arr_bool_col[index] >= 0:\n",
    "        tipo_ofer_list.append('Arriendo')\n",
    "    else:\n",
    "        tipo_ofer_list.append('No hay info')\n",
    "\n",
    "# columna de tipo de oferta\n",
    "tipo_ofer_col = pd.DataFrame(data = {'Tipo de oferta': tipo_ofer_list})\n",
    "\n",
    "# Nota: no hay columnas que no tengan una de las dos informaciones"
   ]
  },
  {
   "cell_type": "markdown",
   "metadata": {},
   "source": [
    "#### Columna `location`\n",
    "\n"
   ]
  },
  {
   "cell_type": "code",
   "execution_count": 96,
   "metadata": {},
   "outputs": [],
   "source": [
    "# `sep_comas` es una serie que contiene en cada elemento una lista del string correspondiente \n",
    "# que separa por comas los grupos de strings\n",
    "sep_comas = df['property_type|rent_type|location'].str.split(pat = \",\")\n",
    "\n",
    "# Se crea una lista con la infomacion location recorriendo los segundos elementos de la columna anterior\n",
    "# se asume que la direccion esta al final de cada string\n",
    "location_list = []\n",
    "for index in range(len(sep_comas)):\n",
    "    lista_strings = sep_comas[index]\n",
    "    location_list.append(lista_strings[1]) \n",
    "    \n",
    "# columna location\n",
    "location_col = pd.DataFrame(data = {'location': location_list})"
   ]
  },
  {
   "cell_type": "markdown",
   "metadata": {},
   "source": [
    "#### Agregar las 3 columnas anteriores a `df`"
   ]
  },
  {
   "cell_type": "code",
   "execution_count": 97,
   "metadata": {},
   "outputs": [],
   "source": [
    "df = pd.concat([df,tipo_inm_col], axis=1)\n",
    "df = pd.concat([df,tipo_ofer_col], axis=1)\n",
    "df = pd.concat([df,location_col], axis=1)"
   ]
  },
  {
   "cell_type": "code",
   "execution_count": null,
   "metadata": {},
   "outputs": [],
   "source": [
    "# prueba de que location_col no tiene el string de arriendo (solo tiene direcciones)\n",
    "# prueba_0 = location_col['location'].str.lower()\n",
    "# prueba_1 = prueba_0.str.find('arriendo')\n",
    "# for index in range(len(prueba_1)):\n",
    "#     if prueba_1[index] >= 0:\n",
    "#         print('error')"
   ]
  },
  {
   "cell_type": "markdown",
   "metadata": {},
   "source": [
    "## Pregunta 1, parte 3\n",
    "\n",
    "### Esquema para agregar las columnas `price per m2` y `garajes`\n",
    "\n",
    "* Se desarrollarán funciones que procesen las columnas `price`, `surface` y `url`.\n",
    "* Se crearán nuevas columnas a partir de las columnas mapeadas a partir de las funciones creadas.\n",
    "* Se agregarán estas columnas a `df`."
   ]
  },
  {
   "cell_type": "markdown",
   "metadata": {},
   "source": [
    "#### Funciones\n",
    "\n",
    "Se detallan las funciones que mapearán las columnas a continuación:"
   ]
  },
  {
   "cell_type": "code",
   "execution_count": 98,
   "metadata": {},
   "outputs": [],
   "source": [
    "# Función que mapeará la columna `price`\n",
    "def precio_to_int(s:str)->int:\n",
    "    \"\"\"\n",
    "    Toma un precio en forma de `str`, en el formato `'$XXX.XXX.XXX'` \n",
    "    con X algún número, y retorna el número entero de ese precio.\n",
    "    \"\"\"\n",
    "    return int(s.replace('$', '').replace('.', ''))\n",
    "\n",
    "# Función que mapeará la columna `surface`\n",
    "def n_surface(s:str)->float:\n",
    "    \"\"\"\n",
    "    Toma un `str` en formato \"XX.Xm2\" y retorna el número real con los metros cuadrados.\n",
    "    \"\"\"\n",
    "    return float(s.replace('m2', ''))\n",
    "\n",
    "# Función que mapeará la columna `url`\n",
    "def n_garaje(s:str)->str: \n",
    "    \"\"\"\n",
    "    Función que toma una url en forma de `str` y retorna un `str`, que será\n",
    "    el número de garajes para la vivienda de esa url.\n",
    "    \"\"\"\n",
    "    i_garaje = s.find('-garajes')\n",
    "    \n",
    "    # No se encuentra el garaje\n",
    "    if i_garaje is -1: \n",
    "        return '0'\n",
    "    \n",
    "    # rescata el str con el número. Puede ser un número de la forma '4+'\n",
    "    s_hasta_garaje = s[:i_garaje] # Se recortará el str hasta la aparición de '-garajes'\n",
    "    i_garaje_ = s_hasta_garaje.rfind('-') + 1 # Se encontrará el índice siguiente de un guión '-'\n",
    "    \n",
    "    return s_hasta_garaje[i_garaje_:] # Se entrega el resto después de ese índice\n",
    "\n",
    "# Función que añadirá '$/m2' a la columa 'price per m2'\n",
    "def agregar_p_m2(x:float)->str:\n",
    "    \"\"\"\n",
    "    Agrega \"$/m2\" al número que se le entregue, retornando un `str`.\n",
    "    \"\"\"\n",
    "    return \"%.2f\"%x + \" $/m2\""
   ]
  },
  {
   "cell_type": "markdown",
   "metadata": {},
   "source": [
    "#### Procesamiento de columnas\n",
    "\n",
    "Se crearán las columnas y se procesarán para ser entregadas."
   ]
  },
  {
   "cell_type": "code",
   "execution_count": 99,
   "metadata": {},
   "outputs": [],
   "source": [
    "# Columna de precios\n",
    "precios_col = pd.Series(df['price']).map(precio_to_int)\n",
    "# Columna de superficie\n",
    "superficie_col = pd.Series(df['surface']).map(n_surface)\n",
    "#columna de los garajes\n",
    "garajes_col = pd.Series(df['url']).map(n_garaje)\n",
    "\n",
    "# Columna producto de la división entre las columnas de precio y superficie\n",
    "p_por_s_col_num = precios_col / superficie_col\n",
    "# Columna precio por metro cuadrado, que además tiene '$/m2'\n",
    "p_por_s_col = pd.Series(p_por_s_col_num).map(agregar_p_m2)"
   ]
  },
  {
   "cell_type": "markdown",
   "metadata": {},
   "source": [
    "#### Rotulación de columnas y añadirlas a `df`"
   ]
  },
  {
   "cell_type": "code",
   "execution_count": 100,
   "metadata": {},
   "outputs": [
    {
     "data": {
      "text/html": [
       "<div>\n",
       "<style scoped>\n",
       "    .dataframe tbody tr th:only-of-type {\n",
       "        vertical-align: middle;\n",
       "    }\n",
       "\n",
       "    .dataframe tbody tr th {\n",
       "        vertical-align: top;\n",
       "    }\n",
       "\n",
       "    .dataframe thead th {\n",
       "        text-align: right;\n",
       "    }\n",
       "</style>\n",
       "<table border=\"1\" class=\"dataframe\">\n",
       "  <thead>\n",
       "    <tr style=\"text-align: right;\">\n",
       "      <th></th>\n",
       "      <th>property_type|rent_type|location</th>\n",
       "      <th>price</th>\n",
       "      <th>n_rooms</th>\n",
       "      <th>n_bath</th>\n",
       "      <th>surface</th>\n",
       "      <th>details</th>\n",
       "      <th>url</th>\n",
       "      <th>metrocuadrado_index</th>\n",
       "      <th>furnished</th>\n",
       "      <th>Tipo de inmueble</th>\n",
       "      <th>Tipo de oferta</th>\n",
       "      <th>location</th>\n",
       "      <th>price per m2</th>\n",
       "      <th>garajes</th>\n",
       "    </tr>\n",
       "  </thead>\n",
       "  <tbody>\n",
       "    <tr>\n",
       "      <th>0</th>\n",
       "      <td>Casa en Arriendo, VILLA DE LOS ALPES II SECTOR...</td>\n",
       "      <td>$750.000</td>\n",
       "      <td>3</td>\n",
       "      <td>1</td>\n",
       "      <td>90.0 m2</td>\n",
       "      <td>CASA DE TRES NIVELES TRES ALCOBAS SALA COMEDOR...</td>\n",
       "      <td>https://www.metrocuadrado.com/inmueble/arriend...</td>\n",
       "      <td>12.2</td>\n",
       "      <td>0</td>\n",
       "      <td>Casa</td>\n",
       "      <td>Arriendo</td>\n",
       "      <td>VILLA DE LOS ALPES II SECTOR Bogotá D.C..</td>\n",
       "      <td>8333.33 $/m2</td>\n",
       "      <td>0</td>\n",
       "    </tr>\n",
       "    <tr>\n",
       "      <th>1</th>\n",
       "      <td>Casa en Arriendo, SANTA ANA ORIENTAL Bogotá D.C..</td>\n",
       "      <td>$2.700.000</td>\n",
       "      <td>2</td>\n",
       "      <td>2</td>\n",
       "      <td>90.0 m2</td>\n",
       "      <td>La ubicación exacta de la propiedad no se publ...</td>\n",
       "      <td>https://www.metrocuadrado.com/inmueble/arriend...</td>\n",
       "      <td>55.9</td>\n",
       "      <td>0</td>\n",
       "      <td>Casa</td>\n",
       "      <td>Arriendo</td>\n",
       "      <td>SANTA ANA ORIENTAL Bogotá D.C..</td>\n",
       "      <td>30000.00 $/m2</td>\n",
       "      <td>1</td>\n",
       "    </tr>\n",
       "    <tr>\n",
       "      <th>2</th>\n",
       "      <td>Casa en Arriendo, HIPOTECHO II Bogotá D.C..</td>\n",
       "      <td>$1.300.000</td>\n",
       "      <td>3</td>\n",
       "      <td>4</td>\n",
       "      <td>64.0 m2</td>\n",
       "      <td>Cómoda casa en Hipotecho, cerca de Centro Come...</td>\n",
       "      <td>https://www.metrocuadrado.com/inmueble/arriend...</td>\n",
       "      <td>54.9</td>\n",
       "      <td>0</td>\n",
       "      <td>Casa</td>\n",
       "      <td>Arriendo</td>\n",
       "      <td>HIPOTECHO II Bogotá D.C..</td>\n",
       "      <td>20312.50 $/m2</td>\n",
       "      <td>1</td>\n",
       "    </tr>\n",
       "    <tr>\n",
       "      <th>3</th>\n",
       "      <td>Casa en Arriendo, LOS PANTANOS Bogotá D.C..</td>\n",
       "      <td>$550.000</td>\n",
       "      <td>2</td>\n",
       "      <td>2</td>\n",
       "      <td>65.0 m2</td>\n",
       "      <td>Casa tres niveles con sala comedor, cocina sem...</td>\n",
       "      <td>https://www.metrocuadrado.com/inmueble/arriend...</td>\n",
       "      <td>17.5</td>\n",
       "      <td>0</td>\n",
       "      <td>Casa</td>\n",
       "      <td>Arriendo</td>\n",
       "      <td>LOS PANTANOS Bogotá D.C..</td>\n",
       "      <td>8461.54 $/m2</td>\n",
       "      <td>0</td>\n",
       "    </tr>\n",
       "    <tr>\n",
       "      <th>4</th>\n",
       "      <td>Casa en Arriendo, ESTACION VICTORIA Bogotá D.C..</td>\n",
       "      <td>$1.500.000</td>\n",
       "      <td>3</td>\n",
       "      <td>2</td>\n",
       "      <td>90.0 m2</td>\n",
       "      <td>Excelente Jardin, Parqueadero interno a la cas...</td>\n",
       "      <td>https://www.metrocuadrado.com/inmueble/arriend...</td>\n",
       "      <td>28.7</td>\n",
       "      <td>0</td>\n",
       "      <td>Casa</td>\n",
       "      <td>Arriendo</td>\n",
       "      <td>ESTACION VICTORIA Bogotá D.C..</td>\n",
       "      <td>16666.67 $/m2</td>\n",
       "      <td>1</td>\n",
       "    </tr>\n",
       "    <tr>\n",
       "      <th>...</th>\n",
       "      <td>...</td>\n",
       "      <td>...</td>\n",
       "      <td>...</td>\n",
       "      <td>...</td>\n",
       "      <td>...</td>\n",
       "      <td>...</td>\n",
       "      <td>...</td>\n",
       "      <td>...</td>\n",
       "      <td>...</td>\n",
       "      <td>...</td>\n",
       "      <td>...</td>\n",
       "      <td>...</td>\n",
       "      <td>...</td>\n",
       "      <td>...</td>\n",
       "    </tr>\n",
       "    <tr>\n",
       "      <th>18389</th>\n",
       "      <td>Apartamento en Arriendo, SANTA BARBARA OCCIDEN...</td>\n",
       "      <td>$4.390.000</td>\n",
       "      <td>2</td>\n",
       "      <td>3</td>\n",
       "      <td>110.0 m2</td>\n",
       "      <td>amoblado con terraza.</td>\n",
       "      <td>https://www.metrocuadrado.com/inmueble/arriend...</td>\n",
       "      <td>64.2</td>\n",
       "      <td>1</td>\n",
       "      <td>Apartamento</td>\n",
       "      <td>Arriendo</td>\n",
       "      <td>SANTA BARBARA OCCIDENTAL Bogotá D.C..</td>\n",
       "      <td>39909.09 $/m2</td>\n",
       "      <td>2</td>\n",
       "    </tr>\n",
       "    <tr>\n",
       "      <th>18390</th>\n",
       "      <td>Apartamento en Arriendo, ANTIGUO COUNTRY Bogot...</td>\n",
       "      <td>$4.500.000</td>\n",
       "      <td>2</td>\n",
       "      <td>3</td>\n",
       "      <td>120.0 m2</td>\n",
       "      <td>Lindo apto en el sector de Chico Virrey, cerca...</td>\n",
       "      <td>https://www.metrocuadrado.com/inmueble/arriend...</td>\n",
       "      <td>55.4</td>\n",
       "      <td>1</td>\n",
       "      <td>Apartamento</td>\n",
       "      <td>Arriendo</td>\n",
       "      <td>ANTIGUO COUNTRY Bogotá D.C..</td>\n",
       "      <td>37500.00 $/m2</td>\n",
       "      <td>2</td>\n",
       "    </tr>\n",
       "    <tr>\n",
       "      <th>18391</th>\n",
       "      <td>Apartamento en Arriendo, MOLINOS NORTE Bogotá ...</td>\n",
       "      <td>$4.100.000</td>\n",
       "      <td>2</td>\n",
       "      <td>3</td>\n",
       "      <td>114.0 m2</td>\n",
       "      <td>Hermoso apto, rodeado de verde por todos lados...</td>\n",
       "      <td>https://www.metrocuadrado.com/inmueble/arriend...</td>\n",
       "      <td>59.1</td>\n",
       "      <td>1</td>\n",
       "      <td>Apartamento</td>\n",
       "      <td>Arriendo</td>\n",
       "      <td>MOLINOS NORTE Bogotá D.C..</td>\n",
       "      <td>35964.91 $/m2</td>\n",
       "      <td>2</td>\n",
       "    </tr>\n",
       "    <tr>\n",
       "      <th>18392</th>\n",
       "      <td>Apartamento en Arriendo, EL NOGAL Bogotá D.C..</td>\n",
       "      <td>$8.450.000</td>\n",
       "      <td>2</td>\n",
       "      <td>2</td>\n",
       "      <td>175.0 m2</td>\n",
       "      <td>ESPECTACULAR APARTAMENTO CON COCINA ABIERTA, C...</td>\n",
       "      <td>https://www.metrocuadrado.com/inmueble/arriend...</td>\n",
       "      <td>60.2</td>\n",
       "      <td>1</td>\n",
       "      <td>Apartamento</td>\n",
       "      <td>Arriendo</td>\n",
       "      <td>EL NOGAL Bogotá D.C..</td>\n",
       "      <td>48285.71 $/m2</td>\n",
       "      <td>2</td>\n",
       "    </tr>\n",
       "    <tr>\n",
       "      <th>18393</th>\n",
       "      <td>Apartamento en Arriendo, PLENITUD Bogotá D.C..</td>\n",
       "      <td>$3.800.000</td>\n",
       "      <td>2</td>\n",
       "      <td>4</td>\n",
       "      <td>107.0 m2</td>\n",
       "      <td>MAGNIFICO APARTAMENTO DUPLEX AMOBLADO, A DOS C...</td>\n",
       "      <td>https://www.metrocuadrado.com/inmueble/arriend...</td>\n",
       "      <td>68.9</td>\n",
       "      <td>1</td>\n",
       "      <td>Apartamento</td>\n",
       "      <td>Arriendo</td>\n",
       "      <td>PLENITUD Bogotá D.C..</td>\n",
       "      <td>35514.02 $/m2</td>\n",
       "      <td>2</td>\n",
       "    </tr>\n",
       "  </tbody>\n",
       "</table>\n",
       "<p>18394 rows × 14 columns</p>\n",
       "</div>"
      ],
      "text/plain": [
       "                        property_type|rent_type|location       price n_rooms  \\\n",
       "0      Casa en Arriendo, VILLA DE LOS ALPES II SECTOR...    $750.000       3   \n",
       "1      Casa en Arriendo, SANTA ANA ORIENTAL Bogotá D.C..  $2.700.000       2   \n",
       "2            Casa en Arriendo, HIPOTECHO II Bogotá D.C..  $1.300.000       3   \n",
       "3            Casa en Arriendo, LOS PANTANOS Bogotá D.C..    $550.000       2   \n",
       "4       Casa en Arriendo, ESTACION VICTORIA Bogotá D.C..  $1.500.000       3   \n",
       "...                                                  ...         ...     ...   \n",
       "18389  Apartamento en Arriendo, SANTA BARBARA OCCIDEN...  $4.390.000       2   \n",
       "18390  Apartamento en Arriendo, ANTIGUO COUNTRY Bogot...  $4.500.000       2   \n",
       "18391  Apartamento en Arriendo, MOLINOS NORTE Bogotá ...  $4.100.000       2   \n",
       "18392     Apartamento en Arriendo, EL NOGAL Bogotá D.C..  $8.450.000       2   \n",
       "18393     Apartamento en Arriendo, PLENITUD Bogotá D.C..  $3.800.000       2   \n",
       "\n",
       "      n_bath   surface                                            details  \\\n",
       "0          1   90.0 m2  CASA DE TRES NIVELES TRES ALCOBAS SALA COMEDOR...   \n",
       "1          2   90.0 m2  La ubicación exacta de la propiedad no se publ...   \n",
       "2          4   64.0 m2  Cómoda casa en Hipotecho, cerca de Centro Come...   \n",
       "3          2   65.0 m2  Casa tres niveles con sala comedor, cocina sem...   \n",
       "4          2   90.0 m2  Excelente Jardin, Parqueadero interno a la cas...   \n",
       "...      ...       ...                                                ...   \n",
       "18389      3  110.0 m2                              amoblado con terraza.   \n",
       "18390      3  120.0 m2  Lindo apto en el sector de Chico Virrey, cerca...   \n",
       "18391      3  114.0 m2  Hermoso apto, rodeado de verde por todos lados...   \n",
       "18392      2  175.0 m2  ESPECTACULAR APARTAMENTO CON COCINA ABIERTA, C...   \n",
       "18393      4  107.0 m2  MAGNIFICO APARTAMENTO DUPLEX AMOBLADO, A DOS C...   \n",
       "\n",
       "                                                     url  metrocuadrado_index  \\\n",
       "0      https://www.metrocuadrado.com/inmueble/arriend...                 12.2   \n",
       "1      https://www.metrocuadrado.com/inmueble/arriend...                 55.9   \n",
       "2      https://www.metrocuadrado.com/inmueble/arriend...                 54.9   \n",
       "3      https://www.metrocuadrado.com/inmueble/arriend...                 17.5   \n",
       "4      https://www.metrocuadrado.com/inmueble/arriend...                 28.7   \n",
       "...                                                  ...                  ...   \n",
       "18389  https://www.metrocuadrado.com/inmueble/arriend...                 64.2   \n",
       "18390  https://www.metrocuadrado.com/inmueble/arriend...                 55.4   \n",
       "18391  https://www.metrocuadrado.com/inmueble/arriend...                 59.1   \n",
       "18392  https://www.metrocuadrado.com/inmueble/arriend...                 60.2   \n",
       "18393  https://www.metrocuadrado.com/inmueble/arriend...                 68.9   \n",
       "\n",
       "       furnished Tipo de inmueble Tipo de oferta  \\\n",
       "0              0             Casa       Arriendo   \n",
       "1              0             Casa       Arriendo   \n",
       "2              0             Casa       Arriendo   \n",
       "3              0             Casa       Arriendo   \n",
       "4              0             Casa       Arriendo   \n",
       "...          ...              ...            ...   \n",
       "18389          1      Apartamento       Arriendo   \n",
       "18390          1      Apartamento       Arriendo   \n",
       "18391          1      Apartamento       Arriendo   \n",
       "18392          1      Apartamento       Arriendo   \n",
       "18393          1      Apartamento       Arriendo   \n",
       "\n",
       "                                         location   price per m2 garajes  \n",
       "0       VILLA DE LOS ALPES II SECTOR Bogotá D.C..   8333.33 $/m2       0  \n",
       "1                 SANTA ANA ORIENTAL Bogotá D.C..  30000.00 $/m2       1  \n",
       "2                       HIPOTECHO II Bogotá D.C..  20312.50 $/m2       1  \n",
       "3                       LOS PANTANOS Bogotá D.C..   8461.54 $/m2       0  \n",
       "4                  ESTACION VICTORIA Bogotá D.C..  16666.67 $/m2       1  \n",
       "...                                           ...            ...     ...  \n",
       "18389       SANTA BARBARA OCCIDENTAL Bogotá D.C..  39909.09 $/m2       2  \n",
       "18390                ANTIGUO COUNTRY Bogotá D.C..  37500.00 $/m2       2  \n",
       "18391                  MOLINOS NORTE Bogotá D.C..  35964.91 $/m2       2  \n",
       "18392                       EL NOGAL Bogotá D.C..  48285.71 $/m2       2  \n",
       "18393                       PLENITUD Bogotá D.C..  35514.02 $/m2       2  \n",
       "\n",
       "[18394 rows x 14 columns]"
      ]
     },
     "execution_count": 100,
     "metadata": {},
     "output_type": "execute_result"
    }
   ],
   "source": [
    "df_ppm_and_g = pd.DataFrame(\n",
    "    data={'price per m2':p_por_s_col,\n",
    "          'garajes':garajes_col\n",
    "         }\n",
    ")\n",
    "\n",
    "df = pd.concat([df, df_ppm_and_g], axis=1)\n",
    "df"
   ]
  },
  {
   "cell_type": "markdown",
   "metadata": {},
   "source": [
    "## Pregunta 1, parte 4\n",
    "\n",
    "### Esquema para clasificar:"
   ]
  },
  {
   "cell_type": "code",
   "execution_count": null,
   "metadata": {},
   "outputs": [],
   "source": []
  },
  {
   "cell_type": "code",
   "execution_count": null,
   "metadata": {},
   "outputs": [],
   "source": []
  },
  {
   "cell_type": "code",
   "execution_count": null,
   "metadata": {},
   "outputs": [],
   "source": []
  },
  {
   "cell_type": "code",
   "execution_count": null,
   "metadata": {},
   "outputs": [],
   "source": []
  },
  {
   "cell_type": "code",
   "execution_count": null,
   "metadata": {},
   "outputs": [],
   "source": []
  },
  {
   "cell_type": "code",
   "execution_count": null,
   "metadata": {},
   "outputs": [],
   "source": []
  },
  {
   "cell_type": "code",
   "execution_count": null,
   "metadata": {},
   "outputs": [],
   "source": []
  },
  {
   "cell_type": "code",
   "execution_count": null,
   "metadata": {},
   "outputs": [],
   "source": []
  },
  {
   "cell_type": "code",
   "execution_count": null,
   "metadata": {},
   "outputs": [],
   "source": []
  },
  {
   "cell_type": "code",
   "execution_count": null,
   "metadata": {},
   "outputs": [],
   "source": []
  },
  {
   "cell_type": "code",
   "execution_count": null,
   "metadata": {},
   "outputs": [],
   "source": []
  }
 ],
 "metadata": {
  "kernelspec": {
   "display_name": "Python 3",
   "language": "python",
   "name": "python3"
  },
  "language_info": {
   "codemirror_mode": {
    "name": "ipython",
    "version": 3
   },
   "file_extension": ".py",
   "mimetype": "text/x-python",
   "name": "python",
   "nbconvert_exporter": "python",
   "pygments_lexer": "ipython3",
   "version": "3.7.6"
  }
 },
 "nbformat": 4,
 "nbformat_minor": 4
}
