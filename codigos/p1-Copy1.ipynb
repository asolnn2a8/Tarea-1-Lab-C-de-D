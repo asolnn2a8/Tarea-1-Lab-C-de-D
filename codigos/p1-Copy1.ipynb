{
 "cells": [
  {
   "cell_type": "markdown",
   "metadata": {},
   "source": [
    "# Pregunta 1, parte 1"
   ]
  },
  {
   "cell_type": "markdown",
   "metadata": {},
   "source": [
    "## Importacion"
   ]
  },
  {
   "cell_type": "code",
   "execution_count": 1,
   "metadata": {},
   "outputs": [],
   "source": [
    "import pandas as pd\n",
    "from paths import *\n",
    "from functools import reduce"
   ]
  },
  {
   "cell_type": "code",
   "execution_count": 2,
   "metadata": {},
   "outputs": [],
   "source": [
    "# Documentación del módulo 'paths'.\n",
    "# import paths\n",
    "# help(paths)"
   ]
  },
  {
   "cell_type": "markdown",
   "metadata": {},
   "source": [
    "## Carga de datos"
   ]
  },
  {
   "cell_type": "markdown",
   "metadata": {},
   "source": [
    "### Creación de la tabla mezclada"
   ]
  },
  {
   "cell_type": "code",
   "execution_count": 3,
   "metadata": {
    "scrolled": false
   },
   "outputs": [],
   "source": [
    "# Cargar todos los csv en dos listas distinguidas por \n",
    "# la aparicion de 'furnished' en el nombre\n",
    "\n",
    "# Lista de DataFrames (Sin 'furnished' en el nombre)\n",
    "L_DF_a = [pd.read_csv(dict_csv_mc_a[wNN]) for wNN in L_WNN]\n",
    "# Lista de DataFrames (Con 'furnished' en el nombre)\n",
    "L_DF_f = [pd.read_csv(dict_csv_mc_f[wNN]) for wNN in L_WNN]"
   ]
  },
  {
   "cell_type": "code",
   "execution_count": 4,
   "metadata": {},
   "outputs": [],
   "source": [
    "# se unen todos los data_frame en cada lista con el comando concat\n",
    "DF_a = pd.concat(L_DF_a)\n",
    "DF_f = pd.concat(L_DF_f)\n",
    "\n",
    "# Se crea una columna con tantos ceros como la cantidad de filas de DF_a\n",
    "# y con tantos unos como la cantidad de filas de DF_f \n",
    "furnished_col = pd.DataFrame(data = {'furnished':[0]*(DF_a.shape[0]) + [1]*(DF_f.shape[0])})\n",
    "\n",
    "# Concateno los data frames DF_a y DF_f y le agrego al final la columna furnished_col\n",
    "df = pd.concat([DF_a,DF_f], ignore_index=True) \n",
    "df = pd.concat([df,furnished_col], axis=1) "
   ]
  },
  {
   "cell_type": "code",
   "execution_count": 5,
   "metadata": {},
   "outputs": [],
   "source": [
    "# Quitamos las filas que sean iguales en todas las columnas con excepcion de\n",
    "# la columna furnished y reindexamos\n",
    "df.drop_duplicates(subset = df.columns[:-1], ignore_index=True, inplace=True)\n",
    "\n",
    "# comentario: si hay filas duplicadas con distintos valores de furnished, se elimina la primera"
   ]
  },
  {
   "cell_type": "code",
   "execution_count": 6,
   "metadata": {},
   "outputs": [],
   "source": [
    "# reportar si Reporte si existen observaciones de archivos con texto ’furnished’ que no est´en\n",
    "# contenidos en archivos con texto ’all’"
   ]
  },
  {
   "cell_type": "markdown",
   "metadata": {},
   "source": [
    "## Pregunta 1, parte 2"
   ]
  },
  {
   "cell_type": "markdown",
   "metadata": {},
   "source": [
    "### Limpieza de datos"
   ]
  },
  {
   "cell_type": "code",
   "execution_count": 7,
   "metadata": {},
   "outputs": [],
   "source": [
    "# Creamos valores a reemplazar\n",
    "valores_nulos = {\n",
    "    'property_type|rent_type|location':'Sin nombre',\n",
    "    'price':'$0',\n",
    "    'n_rooms':'NA',\n",
    "    'n_bath':'NA',\n",
    "    'surface':'0.0 m2',\n",
    "    'details':'',\n",
    "    'url':'',\n",
    "    'metrocuadrado_index':0.0,\n",
    "    'furnished':0\n",
    "}"
   ]
  },
  {
   "cell_type": "code",
   "execution_count": 8,
   "metadata": {},
   "outputs": [
    {
     "data": {
      "text/html": [
       "<div>\n",
       "<style scoped>\n",
       "    .dataframe tbody tr th:only-of-type {\n",
       "        vertical-align: middle;\n",
       "    }\n",
       "\n",
       "    .dataframe tbody tr th {\n",
       "        vertical-align: top;\n",
       "    }\n",
       "\n",
       "    .dataframe thead th {\n",
       "        text-align: right;\n",
       "    }\n",
       "</style>\n",
       "<table border=\"1\" class=\"dataframe\">\n",
       "  <thead>\n",
       "    <tr style=\"text-align: right;\">\n",
       "      <th></th>\n",
       "      <th>property_type|rent_type|location</th>\n",
       "      <th>price</th>\n",
       "      <th>n_rooms</th>\n",
       "      <th>n_bath</th>\n",
       "      <th>surface</th>\n",
       "      <th>details</th>\n",
       "      <th>url</th>\n",
       "      <th>metrocuadrado_index</th>\n",
       "      <th>furnished</th>\n",
       "    </tr>\n",
       "  </thead>\n",
       "  <tbody>\n",
       "    <tr>\n",
       "      <th>0</th>\n",
       "      <td>Casa en Arriendo, LA SOLEDAD NORTE Bogotá D.C..</td>\n",
       "      <td>$1.050.000</td>\n",
       "      <td>3</td>\n",
       "      <td>2</td>\n",
       "      <td>63.0 m2</td>\n",
       "      <td>Excelente casa cerca de la calle 80 y Avenida ...</td>\n",
       "      <td>https://www.metrocuadrado.com/inmueble/arriend...</td>\n",
       "      <td>25.6</td>\n",
       "      <td>0</td>\n",
       "    </tr>\n",
       "    <tr>\n",
       "      <th>1</th>\n",
       "      <td>Casa en Arriendo, CIUDAD SALITRE SUR-ORIENTAL ...</td>\n",
       "      <td>$3.930.000</td>\n",
       "      <td>3</td>\n",
       "      <td>2</td>\n",
       "      <td>100.0 m2</td>\n",
       "      <td>Se arrienda casa bonita totalmente amoblada co...</td>\n",
       "      <td>https://www.metrocuadrado.com/inmueble/arriend...</td>\n",
       "      <td>57.3</td>\n",
       "      <td>0</td>\n",
       "    </tr>\n",
       "    <tr>\n",
       "      <th>2</th>\n",
       "      <td>Casa en Arriendo, VILLA DE LOS ALPES II SECTOR...</td>\n",
       "      <td>$750.000</td>\n",
       "      <td>3</td>\n",
       "      <td>1</td>\n",
       "      <td>90.0 m2</td>\n",
       "      <td>CASA DE TRES NIVELES TRES ALCOBAS SALA COMEDOR...</td>\n",
       "      <td>https://www.metrocuadrado.com/inmueble/arriend...</td>\n",
       "      <td>12.2</td>\n",
       "      <td>0</td>\n",
       "    </tr>\n",
       "    <tr>\n",
       "      <th>3</th>\n",
       "      <td>Casa en Arriendo, PARIS GAITAN Bogotá D.C..</td>\n",
       "      <td>$3.400.000</td>\n",
       "      <td>5</td>\n",
       "      <td>4</td>\n",
       "      <td>71.0 m2</td>\n",
       "      <td>casa ezquinera excelente ubicacion cinco alcob...</td>\n",
       "      <td>https://www.metrocuadrado.com/inmueble/arriend...</td>\n",
       "      <td>56.0</td>\n",
       "      <td>0</td>\n",
       "    </tr>\n",
       "    <tr>\n",
       "      <th>4</th>\n",
       "      <td>Casa en Arriendo, BALCONES DE ORIENTE Bogotá D...</td>\n",
       "      <td>$1.560.000</td>\n",
       "      <td>4</td>\n",
       "      <td>3</td>\n",
       "      <td>96.0 m2</td>\n",
       "      <td>Excelente casa de tres niveles, buena ubicació...</td>\n",
       "      <td>https://www.metrocuadrado.com/inmueble/arriend...</td>\n",
       "      <td>47.1</td>\n",
       "      <td>0</td>\n",
       "    </tr>\n",
       "  </tbody>\n",
       "</table>\n",
       "</div>"
      ],
      "text/plain": [
       "                    property_type|rent_type|location       price n_rooms  \\\n",
       "0    Casa en Arriendo, LA SOLEDAD NORTE Bogotá D.C..  $1.050.000       3   \n",
       "1  Casa en Arriendo, CIUDAD SALITRE SUR-ORIENTAL ...  $3.930.000       3   \n",
       "2  Casa en Arriendo, VILLA DE LOS ALPES II SECTOR...    $750.000       3   \n",
       "3        Casa en Arriendo, PARIS GAITAN Bogotá D.C..  $3.400.000       5   \n",
       "4  Casa en Arriendo, BALCONES DE ORIENTE Bogotá D...  $1.560.000       4   \n",
       "\n",
       "  n_bath   surface                                            details  \\\n",
       "0      2   63.0 m2  Excelente casa cerca de la calle 80 y Avenida ...   \n",
       "1      2  100.0 m2  Se arrienda casa bonita totalmente amoblada co...   \n",
       "2      1   90.0 m2  CASA DE TRES NIVELES TRES ALCOBAS SALA COMEDOR...   \n",
       "3      4   71.0 m2  casa ezquinera excelente ubicacion cinco alcob...   \n",
       "4      3   96.0 m2  Excelente casa de tres niveles, buena ubicació...   \n",
       "\n",
       "                                                 url  metrocuadrado_index  \\\n",
       "0  https://www.metrocuadrado.com/inmueble/arriend...                 25.6   \n",
       "1  https://www.metrocuadrado.com/inmueble/arriend...                 57.3   \n",
       "2  https://www.metrocuadrado.com/inmueble/arriend...                 12.2   \n",
       "3  https://www.metrocuadrado.com/inmueble/arriend...                 56.0   \n",
       "4  https://www.metrocuadrado.com/inmueble/arriend...                 47.1   \n",
       "\n",
       "   furnished  \n",
       "0          0  \n",
       "1          0  \n",
       "2          0  \n",
       "3          0  \n",
       "4          0  "
      ]
     },
     "execution_count": 8,
     "metadata": {},
     "output_type": "execute_result"
    }
   ],
   "source": [
    "# Reemplazamos los valores\n",
    "df.fillna(value=valores_nulos, inplace=True)\n",
    "df.head()"
   ]
  },
  {
   "cell_type": "code",
   "execution_count": 9,
   "metadata": {},
   "outputs": [],
   "source": [
    "# prueba"
   ]
  },
  {
   "cell_type": "markdown",
   "metadata": {},
   "source": [
    "#### Esquema para transformar precio a número"
   ]
  },
  {
   "cell_type": "code",
   "execution_count": 10,
   "metadata": {
    "scrolled": true
   },
   "outputs": [],
   "source": [
    "def precio_to_int(s:str)->int:\n",
    "    \"\"\"\n",
    "    Toma un precio en forma de `str`, en el formato `'$XXX.XXX.XXX'` \n",
    "    con X algún número, y retorna el número entero de ese precio.\n",
    "    \"\"\"\n",
    "    return int(s.replace('$', '').replace('.', ''))\n",
    "    \n"
   ]
  },
  {
   "cell_type": "markdown",
   "metadata": {},
   "source": [
    "#### Esquema para encontrar el número de garajes"
   ]
  },
  {
   "cell_type": "code",
   "execution_count": 11,
   "metadata": {},
   "outputs": [],
   "source": [
    "# def n_garaje(s:str)->int: \n",
    "#     \"\"\"\n",
    "#     Función que toma una url en forma de `str` y retorna el número \n",
    "#     de garajes para la vivienda de esa url.\n",
    "#     \"\"\"\n",
    "#     indice_garaje = s.find('-garajes')\n",
    "    \n",
    "#     if indice_garaje is -1: \n",
    "#         return 0\n",
    "# #     print(s[indice_garaje - 1])\n",
    "#     return int(s[indice_garaje - 1])\n",
    "def n_garaje(s:str)->str: \n",
    "    \"\"\"\n",
    "    Función que toma una url en forma de `str` y retorna el número \n",
    "    de garajes para la vivienda de esa url.\n",
    "    \"\"\"\n",
    "    i_garaje = s.find('-garajes')\n",
    "    \n",
    "    # No se encuentra el garaje\n",
    "    if i_garaje is -1: \n",
    "        return '0'\n",
    "    \n",
    "    s_hasta_garaje = s[:i_garaje]\n",
    "    i_garaje_ = s_hasta_garaje.rfind('-') + 1\n",
    "    s_hasta_garaje[i_garaje_:]\n",
    "    \n",
    "    return s_hasta_garaje[i_garaje_:]"
   ]
  },
  {
   "cell_type": "code",
   "execution_count": 12,
   "metadata": {},
   "outputs": [
    {
     "data": {
      "text/plain": [
       "63.0"
      ]
     },
     "execution_count": 12,
     "metadata": {},
     "output_type": "execute_result"
    }
   ],
   "source": [
    "def n_surface(s:str)->float:\n",
    "    \"\"\"\n",
    "    Toma un `str` en formato \"XX.Xm2\" y retorna el número real de los metros cuadrados\n",
    "    \"\"\"\n",
    "    return float(s.replace('m2', ''))\n",
    "\n",
    "n_surface( df['surface'][0])"
   ]
  },
  {
   "cell_type": "code",
   "execution_count": 21,
   "metadata": {},
   "outputs": [],
   "source": [
    "def agregar_p_m2(x:float)->str:\n",
    "    \"\"\"\n",
    "    Agrega \"$/m2\" al número que se le entregue\n",
    "    \"\"\"\n",
    "    return \"%.2f\"%x + \" $/m2\""
   ]
  },
  {
   "cell_type": "code",
   "execution_count": 23,
   "metadata": {
    "scrolled": false
   },
   "outputs": [
    {
     "data": {
      "text/html": [
       "<div>\n",
       "<style scoped>\n",
       "    .dataframe tbody tr th:only-of-type {\n",
       "        vertical-align: middle;\n",
       "    }\n",
       "\n",
       "    .dataframe tbody tr th {\n",
       "        vertical-align: top;\n",
       "    }\n",
       "\n",
       "    .dataframe thead th {\n",
       "        text-align: right;\n",
       "    }\n",
       "</style>\n",
       "<table border=\"1\" class=\"dataframe\">\n",
       "  <thead>\n",
       "    <tr style=\"text-align: right;\">\n",
       "      <th></th>\n",
       "      <th>property_type|rent_type|location</th>\n",
       "      <th>price</th>\n",
       "      <th>n_rooms</th>\n",
       "      <th>n_bath</th>\n",
       "      <th>surface</th>\n",
       "      <th>details</th>\n",
       "      <th>url</th>\n",
       "      <th>metrocuadrado_index</th>\n",
       "      <th>furnished</th>\n",
       "      <th>0</th>\n",
       "      <th>url</th>\n",
       "    </tr>\n",
       "  </thead>\n",
       "  <tbody>\n",
       "    <tr>\n",
       "      <th>0</th>\n",
       "      <td>Casa en Arriendo, LA SOLEDAD NORTE Bogotá D.C..</td>\n",
       "      <td>$1.050.000</td>\n",
       "      <td>3</td>\n",
       "      <td>2</td>\n",
       "      <td>63.0 m2</td>\n",
       "      <td>Excelente casa cerca de la calle 80 y Avenida ...</td>\n",
       "      <td>https://www.metrocuadrado.com/inmueble/arriend...</td>\n",
       "      <td>25.6</td>\n",
       "      <td>0</td>\n",
       "      <td>16666.67 $/m2</td>\n",
       "      <td>1</td>\n",
       "    </tr>\n",
       "    <tr>\n",
       "      <th>1</th>\n",
       "      <td>Casa en Arriendo, CIUDAD SALITRE SUR-ORIENTAL ...</td>\n",
       "      <td>$3.930.000</td>\n",
       "      <td>3</td>\n",
       "      <td>2</td>\n",
       "      <td>100.0 m2</td>\n",
       "      <td>Se arrienda casa bonita totalmente amoblada co...</td>\n",
       "      <td>https://www.metrocuadrado.com/inmueble/arriend...</td>\n",
       "      <td>57.3</td>\n",
       "      <td>0</td>\n",
       "      <td>39300.00 $/m2</td>\n",
       "      <td>1</td>\n",
       "    </tr>\n",
       "    <tr>\n",
       "      <th>2</th>\n",
       "      <td>Casa en Arriendo, VILLA DE LOS ALPES II SECTOR...</td>\n",
       "      <td>$750.000</td>\n",
       "      <td>3</td>\n",
       "      <td>1</td>\n",
       "      <td>90.0 m2</td>\n",
       "      <td>CASA DE TRES NIVELES TRES ALCOBAS SALA COMEDOR...</td>\n",
       "      <td>https://www.metrocuadrado.com/inmueble/arriend...</td>\n",
       "      <td>12.2</td>\n",
       "      <td>0</td>\n",
       "      <td>8333.33 $/m2</td>\n",
       "      <td>0</td>\n",
       "    </tr>\n",
       "    <tr>\n",
       "      <th>3</th>\n",
       "      <td>Casa en Arriendo, PARIS GAITAN Bogotá D.C..</td>\n",
       "      <td>$3.400.000</td>\n",
       "      <td>5</td>\n",
       "      <td>4</td>\n",
       "      <td>71.0 m2</td>\n",
       "      <td>casa ezquinera excelente ubicacion cinco alcob...</td>\n",
       "      <td>https://www.metrocuadrado.com/inmueble/arriend...</td>\n",
       "      <td>56.0</td>\n",
       "      <td>0</td>\n",
       "      <td>47887.32 $/m2</td>\n",
       "      <td>0</td>\n",
       "    </tr>\n",
       "    <tr>\n",
       "      <th>4</th>\n",
       "      <td>Casa en Arriendo, BALCONES DE ORIENTE Bogotá D...</td>\n",
       "      <td>$1.560.000</td>\n",
       "      <td>4</td>\n",
       "      <td>3</td>\n",
       "      <td>96.0 m2</td>\n",
       "      <td>Excelente casa de tres niveles, buena ubicació...</td>\n",
       "      <td>https://www.metrocuadrado.com/inmueble/arriend...</td>\n",
       "      <td>47.1</td>\n",
       "      <td>0</td>\n",
       "      <td>16250.00 $/m2</td>\n",
       "      <td>1</td>\n",
       "    </tr>\n",
       "    <tr>\n",
       "      <th>...</th>\n",
       "      <td>...</td>\n",
       "      <td>...</td>\n",
       "      <td>...</td>\n",
       "      <td>...</td>\n",
       "      <td>...</td>\n",
       "      <td>...</td>\n",
       "      <td>...</td>\n",
       "      <td>...</td>\n",
       "      <td>...</td>\n",
       "      <td>...</td>\n",
       "      <td>...</td>\n",
       "    </tr>\n",
       "    <tr>\n",
       "      <th>18389</th>\n",
       "      <td>Apartamento en Arriendo, CHICO NORTE Bogotá D.C..</td>\n",
       "      <td>$4.620.000</td>\n",
       "      <td>2</td>\n",
       "      <td>3</td>\n",
       "      <td>150.0 m2</td>\n",
       "      <td>SE ARRIENDA HERMOSO APARTAMENTO AMOBLADO DE 15...</td>\n",
       "      <td>https://www.metrocuadrado.com/inmueble/arriend...</td>\n",
       "      <td>55.6</td>\n",
       "      <td>1</td>\n",
       "      <td>30800.00 $/m2</td>\n",
       "      <td>2</td>\n",
       "    </tr>\n",
       "    <tr>\n",
       "      <th>18390</th>\n",
       "      <td>Apartamento en Arriendo, CHICO NORTE II Bogotá...</td>\n",
       "      <td>$2.700.000</td>\n",
       "      <td>2</td>\n",
       "      <td>2</td>\n",
       "      <td>164.34 m2</td>\n",
       "      <td>Espectacular apartamento en exclusiva zona res...</td>\n",
       "      <td>https://www.metrocuadrado.com/inmueble/arriend...</td>\n",
       "      <td>26.1</td>\n",
       "      <td>1</td>\n",
       "      <td>16429.35 $/m2</td>\n",
       "      <td>1</td>\n",
       "    </tr>\n",
       "    <tr>\n",
       "      <th>18391</th>\n",
       "      <td>Apartamento en Venta Y Arriendo, CHICO NORTE B...</td>\n",
       "      <td>$3.600.000</td>\n",
       "      <td>2</td>\n",
       "      <td>3</td>\n",
       "      <td>110.0 m2</td>\n",
       "      <td>Espectacular apartamento DUPLEX muy iluminado ...</td>\n",
       "      <td>https://www.metrocuadrado.com/inmueble/venta-a...</td>\n",
       "      <td>50.8</td>\n",
       "      <td>1</td>\n",
       "      <td>32727.27 $/m2</td>\n",
       "      <td>2</td>\n",
       "    </tr>\n",
       "    <tr>\n",
       "      <th>18392</th>\n",
       "      <td>Apartamento en Arriendo, MOLINOS NORTE Bogotá ...</td>\n",
       "      <td>$2.525.000</td>\n",
       "      <td>2</td>\n",
       "      <td>3</td>\n",
       "      <td>106.0 m2</td>\n",
       "      <td>Hermoso apartamento de 106m2  2  añoS de const...</td>\n",
       "      <td>https://www.metrocuadrado.com/inmueble/arriend...</td>\n",
       "      <td>44.4</td>\n",
       "      <td>1</td>\n",
       "      <td>23820.75 $/m2</td>\n",
       "      <td>2</td>\n",
       "    </tr>\n",
       "    <tr>\n",
       "      <th>18393</th>\n",
       "      <td>Apartamento en Arriendo, EL NOGAL Bogotá D.C..</td>\n",
       "      <td>$4.600.000</td>\n",
       "      <td>2</td>\n",
       "      <td>2</td>\n",
       "      <td>135.0 m2</td>\n",
       "      <td>PH amoblado totalmente dotado, con terraza, bi...</td>\n",
       "      <td>https://www.metrocuadrado.com/inmueble/arriend...</td>\n",
       "      <td>49.6</td>\n",
       "      <td>1</td>\n",
       "      <td>34074.07 $/m2</td>\n",
       "      <td>1</td>\n",
       "    </tr>\n",
       "  </tbody>\n",
       "</table>\n",
       "<p>18394 rows × 11 columns</p>\n",
       "</div>"
      ],
      "text/plain": [
       "                        property_type|rent_type|location       price n_rooms  \\\n",
       "0        Casa en Arriendo, LA SOLEDAD NORTE Bogotá D.C..  $1.050.000       3   \n",
       "1      Casa en Arriendo, CIUDAD SALITRE SUR-ORIENTAL ...  $3.930.000       3   \n",
       "2      Casa en Arriendo, VILLA DE LOS ALPES II SECTOR...    $750.000       3   \n",
       "3            Casa en Arriendo, PARIS GAITAN Bogotá D.C..  $3.400.000       5   \n",
       "4      Casa en Arriendo, BALCONES DE ORIENTE Bogotá D...  $1.560.000       4   \n",
       "...                                                  ...         ...     ...   \n",
       "18389  Apartamento en Arriendo, CHICO NORTE Bogotá D.C..  $4.620.000       2   \n",
       "18390  Apartamento en Arriendo, CHICO NORTE II Bogotá...  $2.700.000       2   \n",
       "18391  Apartamento en Venta Y Arriendo, CHICO NORTE B...  $3.600.000       2   \n",
       "18392  Apartamento en Arriendo, MOLINOS NORTE Bogotá ...  $2.525.000       2   \n",
       "18393     Apartamento en Arriendo, EL NOGAL Bogotá D.C..  $4.600.000       2   \n",
       "\n",
       "      n_bath    surface                                            details  \\\n",
       "0          2    63.0 m2  Excelente casa cerca de la calle 80 y Avenida ...   \n",
       "1          2   100.0 m2  Se arrienda casa bonita totalmente amoblada co...   \n",
       "2          1    90.0 m2  CASA DE TRES NIVELES TRES ALCOBAS SALA COMEDOR...   \n",
       "3          4    71.0 m2  casa ezquinera excelente ubicacion cinco alcob...   \n",
       "4          3    96.0 m2  Excelente casa de tres niveles, buena ubicació...   \n",
       "...      ...        ...                                                ...   \n",
       "18389      3   150.0 m2  SE ARRIENDA HERMOSO APARTAMENTO AMOBLADO DE 15...   \n",
       "18390      2  164.34 m2  Espectacular apartamento en exclusiva zona res...   \n",
       "18391      3   110.0 m2  Espectacular apartamento DUPLEX muy iluminado ...   \n",
       "18392      3   106.0 m2  Hermoso apartamento de 106m2  2  añoS de const...   \n",
       "18393      2   135.0 m2  PH amoblado totalmente dotado, con terraza, bi...   \n",
       "\n",
       "                                                     url  metrocuadrado_index  \\\n",
       "0      https://www.metrocuadrado.com/inmueble/arriend...                 25.6   \n",
       "1      https://www.metrocuadrado.com/inmueble/arriend...                 57.3   \n",
       "2      https://www.metrocuadrado.com/inmueble/arriend...                 12.2   \n",
       "3      https://www.metrocuadrado.com/inmueble/arriend...                 56.0   \n",
       "4      https://www.metrocuadrado.com/inmueble/arriend...                 47.1   \n",
       "...                                                  ...                  ...   \n",
       "18389  https://www.metrocuadrado.com/inmueble/arriend...                 55.6   \n",
       "18390  https://www.metrocuadrado.com/inmueble/arriend...                 26.1   \n",
       "18391  https://www.metrocuadrado.com/inmueble/venta-a...                 50.8   \n",
       "18392  https://www.metrocuadrado.com/inmueble/arriend...                 44.4   \n",
       "18393  https://www.metrocuadrado.com/inmueble/arriend...                 49.6   \n",
       "\n",
       "       furnished              0 url  \n",
       "0              0  16666.67 $/m2   1  \n",
       "1              0  39300.00 $/m2   1  \n",
       "2              0   8333.33 $/m2   0  \n",
       "3              0  47887.32 $/m2   0  \n",
       "4              0  16250.00 $/m2   1  \n",
       "...          ...            ...  ..  \n",
       "18389          1  30800.00 $/m2   2  \n",
       "18390          1  16429.35 $/m2   1  \n",
       "18391          1  32727.27 $/m2   2  \n",
       "18392          1  23820.75 $/m2   2  \n",
       "18393          1  34074.07 $/m2   1  \n",
       "\n",
       "[18394 rows x 11 columns]"
      ]
     },
     "execution_count": 23,
     "metadata": {},
     "output_type": "execute_result"
    }
   ],
   "source": [
    "col_precios = pd.Series(df['price']).map(precio_to_int)\n",
    "col_superficie = pd.Series(df['surface']).map(n_surface)\n",
    "col_p_entre_s = col_precios / col_superficie\n",
    "col_p_entre_s_ = pd.Series(col_p_entre_s).map(agregar_p_m2)\n",
    "col_garajes = pd.Series(df['url']).map(n_garaje)\n",
    "df = pd.concat([df,col_p_entre_s_], axis=1) \n",
    "df = pd.concat([df,col_garajes], axis=1) \n",
    "# df\n",
    "df"
   ]
  },
  {
   "cell_type": "code",
   "execution_count": null,
   "metadata": {},
   "outputs": [],
   "source": []
  },
  {
   "cell_type": "code",
   "execution_count": null,
   "metadata": {},
   "outputs": [],
   "source": []
  },
  {
   "cell_type": "code",
   "execution_count": null,
   "metadata": {},
   "outputs": [],
   "source": []
  },
  {
   "cell_type": "code",
   "execution_count": null,
   "metadata": {},
   "outputs": [],
   "source": []
  },
  {
   "cell_type": "code",
   "execution_count": null,
   "metadata": {},
   "outputs": [],
   "source": []
  },
  {
   "cell_type": "code",
   "execution_count": null,
   "metadata": {},
   "outputs": [],
   "source": []
  },
  {
   "cell_type": "code",
   "execution_count": null,
   "metadata": {},
   "outputs": [],
   "source": []
  },
  {
   "cell_type": "code",
   "execution_count": null,
   "metadata": {},
   "outputs": [],
   "source": []
  },
  {
   "cell_type": "code",
   "execution_count": null,
   "metadata": {},
   "outputs": [],
   "source": []
  }
 ],
 "metadata": {
  "kernelspec": {
   "display_name": "Python 3",
   "language": "python",
   "name": "python3"
  },
  "language_info": {
   "codemirror_mode": {
    "name": "ipython",
    "version": 3
   },
   "file_extension": ".py",
   "mimetype": "text/x-python",
   "name": "python",
   "nbconvert_exporter": "python",
   "pygments_lexer": "ipython3",
   "version": "3.7.3"
  }
 },
 "nbformat": 4,
 "nbformat_minor": 4
}
