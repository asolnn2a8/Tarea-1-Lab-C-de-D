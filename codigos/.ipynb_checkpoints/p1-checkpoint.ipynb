{
 "cells": [
  {
   "cell_type": "markdown",
   "metadata": {},
   "source": [
    "# Pregunta 1, parte 1"
   ]
  },
  {
   "cell_type": "markdown",
   "metadata": {},
   "source": [
    "## Importacion"
   ]
  },
  {
   "cell_type": "markdown",
   "metadata": {},
   "source": [
    "Se importa el módulo `pandas`, y se importa un módulo personal llamado `paths`, que contiene los paths que utilizaremos en este análisis."
   ]
  },
  {
   "cell_type": "code",
   "execution_count": 1,
   "metadata": {},
   "outputs": [],
   "source": [
    "import pandas as pd\n",
    "\n",
    "from paths import *"
   ]
  },
  {
   "cell_type": "markdown",
   "metadata": {},
   "source": [
    "Esta es la documentación de `paths` (decomentar para verlas)."
   ]
  },
  {
   "cell_type": "code",
   "execution_count": null,
   "metadata": {},
   "outputs": [],
   "source": [
    "# Documentación del módulo 'paths'.\n",
    "# import paths\n",
    "# help(paths)"
   ]
  },
  {
   "cell_type": "markdown",
   "metadata": {},
   "source": [
    "## Carga de datos"
   ]
  },
  {
   "cell_type": "markdown",
   "metadata": {},
   "source": [
    "### Creación de la tabla mezclada"
   ]
  },
  {
   "cell_type": "markdown",
   "metadata": {},
   "source": [
    "Cargar todos los .csv en dos listas distinguidas por la aparición de `furnished` en el nombre."
   ]
  },
  {
   "cell_type": "code",
   "execution_count": 3,
   "metadata": {
    "scrolled": false
   },
   "outputs": [],
   "source": [
    "# Lista de DataFrames (Sin 'furnished' en el nombre)\n",
    "L_DF_a = [pd.read_csv(dict_csv_mc_a[wNN]) for wNN in L_WNN]\n",
    "\n",
    "# Lista de DataFrames (Con 'furnished' en el nombre)\n",
    "L_DF_f = [pd.read_csv(dict_csv_mc_f[wNN]) for wNN in L_WNN]"
   ]
  },
  {
   "cell_type": "markdown",
   "metadata": {},
   "source": [
    "Se unen los `DataFrames` de las listas en un único `DataFrame`, luego se crea una nueva columna llamada `'furnished'` y finalmente se unen los dos `DataFrames` en uno, con la nueva columna incluida."
   ]
  },
  {
   "cell_type": "code",
   "execution_count": 4,
   "metadata": {},
   "outputs": [],
   "source": [
    "# se unen todos los data_frame en cada lista con el comando concat\n",
    "DF_a = pd.concat(L_DF_a)\n",
    "DF_f = pd.concat(L_DF_f)\n",
    "\n",
    "# Se eliminan las filas duplicadas de cada data frame por separado\n",
    "DF_a.drop_duplicates(subset=DF_a.columns, ignore_index=True, inplace=True, keep='last')\n",
    "DF_f.drop_duplicates(subset=DF_f.columns, ignore_index=True, inplace=True, keep='last')\n",
    "\n",
    "# Se crea una columna con tantos ceros como la cantidad de filas de DF_a\n",
    "# y con tantos unos como la cantidad de filas de DF_f \n",
    "furnished_col = pd.DataFrame(data={'furnished':[0]*(DF_a.shape[0]) + [1]*(DF_f.shape[0])})\n",
    "\n",
    "# Concateno los data frames DF_a y DF_f y le agrego al final la columna furnished_col\n",
    "df = pd.concat([DF_a, DF_f], ignore_index=True) \n",
    "df = pd.concat([df, furnished_col], axis=1)"
   ]
  },
  {
   "cell_type": "code",
   "execution_count": 4,
   "metadata": {},
   "outputs": [],
   "source": [
    "# vemos cuantas filas tiene cada data frame (para reportar si hay filas en furnished \n",
    "# que no estan en all)\n",
    "# print(DF_a.shape[0])\n",
    "# print(DF_f.shape[0])\n",
    "# nota: DF_a tiene 16295 filas y DF_f tiene 2099 filas  "
   ]
  },
  {
   "cell_type": "markdown",
   "metadata": {},
   "source": [
    "Para terminar, se quitan las filas duplicadas en ambos grupos, furnished y all"
   ]
  },
  {
   "cell_type": "code",
   "execution_count": 5,
   "metadata": {},
   "outputs": [],
   "source": [
    "# Quitamos las filas que sean iguales en todas las columnas con excepcion de\n",
    "# la columna furnished y reindexamos\n",
    "df.drop_duplicates(subset=df.columns[:-1], ignore_index=True, inplace=True, keep='last')\n",
    "\n",
    "# comentario 1: si hay filas duplicadas con distintos valores de furnished, se eliminan las primera\n",
    "# comentario 2: el comentario 1 asegura que si hay dos filas iguales con distintos valores de furnished,\n",
    "# se elimine la que tiene el valor 0 para furnished, lo que tiene sentido dado que furnished puede estar\n",
    "# contenido en all"
   ]
  },
  {
   "cell_type": "code",
   "execution_count": 6,
   "metadata": {},
   "outputs": [],
   "source": [
    "# reportar si Reporte si existen observaciones de archivos con texto ’furnished’ que no estén\n",
    "# contenidos en archivos con texto ’all’\n",
    "# print(df[df['furnished'] == 0].shape[0])\n",
    "# print(df[df['furnished'] == 1].shape[0])\n",
    "# como ambas selecciones de filas en el dataframe tienen las mismas filas que los originales\n",
    "# luego de eliminar las filas iguales, se conluye que no hay filas en furnished que no esten\n",
    "# en all"
   ]
  },
  {
   "cell_type": "markdown",
   "metadata": {},
   "source": [
    "## Pregunta 1, parte 2"
   ]
  },
  {
   "cell_type": "markdown",
   "metadata": {},
   "source": [
    "### a) Limpieza de datos"
   ]
  },
  {
   "cell_type": "markdown",
   "metadata": {},
   "source": [
    "Se crea un diccionario llamado `valores_nulos` que contendrá el nombre de las columnas de `df` como llave, y el valor de la llave será lo que reemplazará el valor `NaN`."
   ]
  },
  {
   "cell_type": "code",
   "execution_count": 6,
   "metadata": {},
   "outputs": [],
   "source": [
    "# Creamos valores a reemplazar\n",
    "valores_nulos = {\n",
    "#     'property_type|rent_type|location':'Sin nombre',\n",
    "    'price':'$0',\n",
    "    'n_rooms':'NA',\n",
    "    'n_bath':'NA',\n",
    "    'surface':'0.0 m2',\n",
    "#     'details':'',\n",
    "#     'url':'',\n",
    "#     'metrocuadrado_index':0.0,\n",
    "#     'furnished':0\n",
    "}"
   ]
  },
  {
   "cell_type": "code",
   "execution_count": 7,
   "metadata": {},
   "outputs": [],
   "source": [
    "# Reemplazamos los valores\n",
    "df.fillna(value=valores_nulos, inplace=True)"
   ]
  },
  {
   "cell_type": "markdown",
   "metadata": {},
   "source": [
    "#### Reemplazo de los tipos de algunas columnas\n",
    "\n",
    "Además, en esta etapa se cambiará el tipo de algunas columnas."
   ]
  },
  {
   "cell_type": "markdown",
   "metadata": {},
   "source": [
    "##### Funciones auxiliares"
   ]
  },
  {
   "cell_type": "code",
   "execution_count": 8,
   "metadata": {},
   "outputs": [],
   "source": [
    "# Función que mapeará la columna `price`\n",
    "def precio_to_int(s:str)->int:\n",
    "    \"\"\"\n",
    "    Toma un precio en forma de `str`, en el formato `'$XXX.XXX.XXX'` \n",
    "    con X algún número, y retorna el número entero de ese precio.\n",
    "    \"\"\"\n",
    "    return int(s.replace('$', '').replace('.', ''))\n",
    "\n",
    "# Función que mapeará la columna `surface`\n",
    "def n_surface(s:str)->float:\n",
    "    \"\"\"\n",
    "    Toma un `str` en formato \"XX.Xm2\" y retorna el número real con los metros cuadrados.\n",
    "    \"\"\"\n",
    "    return float(s.replace('m2', ''))"
   ]
  },
  {
   "cell_type": "markdown",
   "metadata": {},
   "source": [
    "##### Reemplazo de columnas"
   ]
  },
  {
   "cell_type": "code",
   "execution_count": 9,
   "metadata": {},
   "outputs": [],
   "source": [
    "# Columna de precios\n",
    "precios_col = df['price'].map(precio_to_int)\n",
    "# Columna de superficie\n",
    "superficie_col = df['surface'].map(n_surface)\n",
    "\n",
    "df['price'] = precios_col\n",
    "df['surface'] = superficie_col\n",
    "df.rename(columns={\n",
    "    'price':'price_$',\n",
    "    'surface':'surface_m2'\n",
    "}, inplace=True)"
   ]
  },
  {
   "cell_type": "markdown",
   "metadata": {},
   "source": [
    "### b) Obtención de 3 columnas a partir de `'property_type|rent_type|location'`"
   ]
  },
  {
   "cell_type": "markdown",
   "metadata": {},
   "source": [
    "`lower_case_col` es una columna con todas las palabras en minusculas."
   ]
  },
  {
   "cell_type": "code",
   "execution_count": 10,
   "metadata": {},
   "outputs": [],
   "source": [
    "lower_case_col = df['property_type|rent_type|location'].str.lower()"
   ]
  },
  {
   "cell_type": "markdown",
   "metadata": {},
   "source": [
    "#### Columna `tipo de inmueble`"
   ]
  },
  {
   "cell_type": "code",
   "execution_count": 11,
   "metadata": {},
   "outputs": [],
   "source": [
    "# `casa_bool_col` y `apart_bool_col` son columnas que tienen un -1 si la palabra no está \n",
    "# y un número entero positivo si la palabra está.\n",
    "casa_bool_col = lower_case_col.str.find('casa')\n",
    "apart_bool_col = lower_case_col.str.find('apartamento')\n",
    "\n",
    "# Se crea una lista con la infomacion del tipo de inmueble recorriendo las dos columnas anteriores\n",
    "tipo_inm_list = []\n",
    "for index in range(len(lower_case_col)):\n",
    "    if casa_bool_col[index] >= 0:\n",
    "        tipo_inm_list.append('Casa')\n",
    "    elif apart_bool_col[index] >= 0:\n",
    "        tipo_inm_list.append('Apartamento')\n",
    "    else:\n",
    "        tipo_inm_list.append('No hay info')\n",
    "\n",
    "# columna de tipo de inmueble\n",
    "tipo_inm_col = pd.DataFrame(data = {'tipo_de_inmueble': tipo_inm_list})\n",
    "\n",
    "# Nota: no hay columnas que no tengan una de las dos informaciones"
   ]
  },
  {
   "cell_type": "markdown",
   "metadata": {},
   "source": [
    "#### Columna `Tipo de oferta`\n",
    "\n"
   ]
  },
  {
   "cell_type": "code",
   "execution_count": 12,
   "metadata": {},
   "outputs": [],
   "source": [
    "# `vent_bool_col` y `arr_bool_col` son columnas que tienen un -1 si la palabra no está \n",
    "# y un número entero positivo si la palabra está.\n",
    "vent_bool_col = lower_case_col.str.find('venta')\n",
    "arr_bool_col = lower_case_col.str.find('arriendo')\n",
    "\n",
    "# Se crea una lista con la infomacion del tipo de oferta recorriendo las dos columnas anteriores\n",
    "tipo_ofer_list = []\n",
    "for index in range(len(lower_case_col)):\n",
    "    if (vent_bool_col[index] >= 0) and (arr_bool_col[index] >= 0):\n",
    "        tipo_ofer_list.append('Arriendo y venta')\n",
    "    elif arr_bool_col[index] >= 0:\n",
    "        tipo_ofer_list.append('Arriendo')\n",
    "    else:\n",
    "        tipo_ofer_list.append('No hay info')\n",
    "\n",
    "# columna de tipo de oferta\n",
    "tipo_ofer_col = pd.DataFrame(data = {'tipo_de_oferta': tipo_ofer_list})\n",
    "\n",
    "# Nota: no hay columnas que no tengan una de las dos informaciones"
   ]
  },
  {
   "cell_type": "markdown",
   "metadata": {},
   "source": [
    "#### Columna `location`\n",
    "\n"
   ]
  },
  {
   "cell_type": "code",
   "execution_count": 13,
   "metadata": {},
   "outputs": [],
   "source": [
    "# `sep_comas` es una serie que contiene en cada elemento una lista del string correspondiente \n",
    "# que separa por comas los grupos de strings\n",
    "sep_comas = df['property_type|rent_type|location'].str.split(pat = \",\")\n",
    "\n",
    "# Se crea una lista con la infomacion location recorriendo los segundos elementos de la columna anterior\n",
    "# se asume que la direccion esta al final de cada string\n",
    "location_list = []\n",
    "for index in range(len(sep_comas)):\n",
    "    lista_strings = sep_comas[index]\n",
    "    location_list.append(lista_strings[1]) \n",
    "    \n",
    "# columna location\n",
    "location_col = pd.DataFrame(data = {'location': location_list})"
   ]
  },
  {
   "cell_type": "markdown",
   "metadata": {},
   "source": [
    "#### Agregar las 3 columnas anteriores a `df`"
   ]
  },
  {
   "cell_type": "code",
   "execution_count": 14,
   "metadata": {},
   "outputs": [],
   "source": [
    "df = pd.concat([df,tipo_inm_col], axis=1)\n",
    "df = pd.concat([df,tipo_ofer_col], axis=1)\n",
    "df = pd.concat([df,location_col], axis=1)"
   ]
  },
  {
   "cell_type": "code",
   "execution_count": 15,
   "metadata": {},
   "outputs": [],
   "source": [
    "# prueba de que location_col no tiene el string de arriendo (solo tiene direcciones)\n",
    "# prueba_0 = location_col['location'].str.lower()\n",
    "# prueba_1 = prueba_0.str.find('arriendo')\n",
    "# for index in range(len(prueba_1)):\n",
    "#     if prueba_1[index] >= 0:\n",
    "#         print('error')"
   ]
  },
  {
   "cell_type": "markdown",
   "metadata": {},
   "source": [
    "## Pregunta 1, parte 3\n",
    "\n",
    "### Esquema para agregar las columnas `price per m2` y `garajes`\n",
    "\n",
    "* Se desarrollarán funciones que procesen las columnas `url`.\n",
    "* Se crearán nuevas columnas a partir de las columnas mapeadas a partir de las funciones creadas.\n",
    "* Se agregarán estas columnas a `df`."
   ]
  },
  {
   "cell_type": "markdown",
   "metadata": {},
   "source": [
    "#### Funciones\n",
    "\n",
    "Se detallan las funciones que mapearán las columnas a continuación:"
   ]
  },
  {
   "cell_type": "code",
   "execution_count": 16,
   "metadata": {},
   "outputs": [],
   "source": [
    "# Función que mapeará la columna `url`\n",
    "def n_garaje(s:str)->str: \n",
    "    \"\"\"\n",
    "    Función que toma una url en forma de `str` y retorna un `str`, que será\n",
    "    el número de garajes para la vivienda de esa url.\n",
    "    \"\"\"\n",
    "    i_garaje = s.find('-garajes')\n",
    "    \n",
    "    # No se encuentra el garaje\n",
    "    if i_garaje is -1: \n",
    "        return '0'\n",
    "    \n",
    "    # rescata el str con el número. Puede ser un número de la forma '4+'\n",
    "    s_hasta_garaje = s[:i_garaje] # Se recortará el str hasta la aparición de '-garajes'\n",
    "    i_garaje_ = s_hasta_garaje.rfind('-') + 1 # Se encontrará el índice siguiente de un guión '-'\n",
    "    \n",
    "    return s_hasta_garaje[i_garaje_:] # Se entrega el resto después de ese índice"
   ]
  },
  {
   "cell_type": "markdown",
   "metadata": {},
   "source": [
    "#### Procesamiento de columnas\n",
    "\n",
    "Se crearán las columnas y se procesarán para ser entregadas."
   ]
  },
  {
   "cell_type": "code",
   "execution_count": 17,
   "metadata": {},
   "outputs": [],
   "source": [
    "#columna de los garajes\n",
    "garajes_col = df['url'].map(n_garaje)\n",
    "\n",
    "# Columna producto de la división entre las columnas de precio y superficie\n",
    "p_por_s_col = (df['price_$'] / df['surface_m2']).map(lambda x: round(x, 2))"
   ]
  },
  {
   "cell_type": "markdown",
   "metadata": {},
   "source": [
    "#### Rotulación de columnas y añadirlas a `df`"
   ]
  },
  {
   "cell_type": "code",
   "execution_count": 18,
   "metadata": {},
   "outputs": [],
   "source": [
    "df_ppm_and_g = pd.DataFrame(\n",
    "    data={\n",
    "        'price_per_m2_$/m2':p_por_s_col,\n",
    "        'garajes':garajes_col\n",
    "    }\n",
    ")\n",
    "\n",
    "df = pd.concat([df, df_ppm_and_g], axis=1)"
   ]
  },
  {
   "cell_type": "markdown",
   "metadata": {},
   "source": [
    "## Pregunta 1, parte 4\n",
    "\n",
    "### Esquema para clasificar:"
   ]
  },
  {
   "cell_type": "code",
   "execution_count": 19,
   "metadata": {},
   "outputs": [],
   "source": [
    "# crear las 8 clasificaciones con el comando query, ademas, se crean columnmas con enteros \n",
    "# que representan dicha clasificacion\n",
    "\n",
    "expr_base = 'tipo_de_inmueble == \"{tipo_inmueble}\" ' \\\n",
    "          + 'and surface_m2 >= {cota_inf} ' \\\n",
    "          + 'and surface_m2 {desig} {cota_sup}'\n",
    "\n",
    "L_inmuebles = ['Casa']*5 + ['Apartamento']*3\n",
    "bnds_sym_r = ['<']*4 + ['<='] \\\n",
    "           + ['<']*2 + ['<=']\n",
    "\n",
    "L_bnds_casa = list(map(str, [80, 120, 180, 240, 360, 460]))\n",
    "L_bnds_apart = list(map(str, [40, 60, 80, 120]))\n",
    "\n",
    "bnds = [(L_bnds_casa[i], L_bnds_casa[i+1]) for i in range(len(L_bnds_casa)-1)] \\\n",
    "     + [(L_bnds_apart[i], L_bnds_apart[i+1]) for i in range(len(L_bnds_apart)-1)]\n",
    "\n",
    "L_expr = [expr_base.format(\n",
    "    tipo_inmueble=L_inmuebles[i], \n",
    "    cota_inf=bnds[i][0], \n",
    "    desig=bnds_sym_r[i], \n",
    "    cota_sup=bnds[i][1]\n",
    ") for i in range(len(bnds))]"
   ]
  },
  {
   "cell_type": "code",
   "execution_count": 20,
   "metadata": {},
   "outputs": [],
   "source": [
    "L_prod = []\n",
    "tipo_prod_list = []\n",
    "\n",
    "for i in range(len(L_expr)):\n",
    "    prod = df.query(L_expr[i], inplace=False)\n",
    "    list_prod = [i+1]*(prod.shape[0])\n",
    "    \n",
    "    L_prod.append(prod)\n",
    "    tipo_prod_list += list_prod\n",
    "\n",
    "# concateno todos los productos reseteando los indices\n",
    "df = pd.concat(L_prod, ignore_index=True) \n",
    "# creo la columna con el tipo de producto\n",
    "tipo_prod = pd.DataFrame(data={'Tipo_de_prod': tipo_prod_list})\n",
    "# agrego la columna de tipo de producto\n",
    "df = pd.concat([df, tipo_prod], axis=1)"
   ]
  },
  {
   "cell_type": "code",
   "execution_count": 21,
   "metadata": {},
   "outputs": [],
   "source": [
    "# # crear las 8 clasificaciones con el comando query, ademas, se crean columnmas con enteros \n",
    "# # que representan dicha clasificacion\n",
    "\n",
    "# # Tipo de producto 1\n",
    "# prod_1 = df.query('tipo_de_inmueble == \"Casa\" and surface_m2 >= 80 and surface_m2 < 120', inplace = False)\n",
    "# list_prod_1 = [1]*(prod_1.shape[0])\n",
    "# # Tipo de producto 2\n",
    "# prod_2 = df.query('tipo_de_inmueble == \"Casa\" and surface_m2 >= 120 and surface_m2 < 180', inplace = False)\n",
    "# list_prod_2 = [2]*(prod_2.shape[0])\n",
    "# # Tipo de producto 3\n",
    "# prod_3 = df.query('tipo_de_inmueble == \"Casa\" and surface_m2 >= 180 and surface_m2 < 240', inplace = False)\n",
    "# list_prod_3 = [3]*(prod_3.shape[0])\n",
    "# # Tipo de producto 4\n",
    "# prod_4 = df.query('tipo_de_inmueble == \"Casa\" and surface_m2 >= 240 and surface_m2 < 360', inplace = False)\n",
    "# list_prod_4 = [4]*(prod_4.shape[0])\n",
    "# # Tipo de producto 5\n",
    "# prod_5 = df.query('tipo_de_inmueble == \"Casa\" and surface_m2 >= 360 and surface_m2 <= 460', inplace = False)\n",
    "# list_prod_5 = [5]*(prod_5.shape[0])\n",
    "# # Tipo de producto 6\n",
    "# prod_6 = df.query('tipo_de_inmueble == \"Apartamento\" and surface_m2 >= 40 and surface_m2 < 60', inplace = False)\n",
    "# list_prod_6 = [6]*(prod_6.shape[0])\n",
    "# # Tipo de producto 7\n",
    "# prod_7 = df.query('tipo_de_inmueble == \"Apartamento\" and surface_m2 >= 60 and surface_m2 < 80', inplace = False)\n",
    "# list_prod_7 = [7]*(prod_7.shape[0])\n",
    "# # Tipo de producto 8\n",
    "# prod_8 = df.query('tipo_de_inmueble == \"Apartamento\" and surface_m2 >= 80 and surface_m2 <= 120', inplace = False)\n",
    "# list_prod_8 = [8]*(prod_8.shape[0])"
   ]
  },
  {
   "cell_type": "code",
   "execution_count": null,
   "metadata": {},
   "outputs": [],
   "source": [
    "# # concateno todos los productos reseteando los indices\n",
    "# df = pd.concat([prod_1, prod_2, prod_3, prod_4, prod_5, prod_6, prod_7, prod_8], ignore_index=True) \n",
    "# # creo la columna con el tipo de producto\n",
    "# tipo_prod_list = list_prod_1 + list_prod_2 + list_prod_3 + list_prod_4 + list_prod_5 + list_prod_6 + list_prod_7 +list_prod_8 \n",
    "# tipo_prod = pd.DataFrame(data = {'Tipo_de_prod': tipo_prod_list})\n",
    "# # agrego la columna de tipo de producto\n",
    "# df = pd.concat([df, tipo_prod], axis=1)"
   ]
  },
  {
   "cell_type": "code",
   "execution_count": 22,
   "metadata": {},
   "outputs": [
    {
     "data": {
      "text/html": [
       "<div>\n",
       "<style scoped>\n",
       "    .dataframe tbody tr th:only-of-type {\n",
       "        vertical-align: middle;\n",
       "    }\n",
       "\n",
       "    .dataframe tbody tr th {\n",
       "        vertical-align: top;\n",
       "    }\n",
       "\n",
       "    .dataframe thead th {\n",
       "        text-align: right;\n",
       "    }\n",
       "</style>\n",
       "<table border=\"1\" class=\"dataframe\">\n",
       "  <thead>\n",
       "    <tr style=\"text-align: right;\">\n",
       "      <th></th>\n",
       "      <th>property_type|rent_type|location</th>\n",
       "      <th>price_$</th>\n",
       "      <th>n_rooms</th>\n",
       "      <th>n_bath</th>\n",
       "      <th>surface_m2</th>\n",
       "      <th>details</th>\n",
       "      <th>url</th>\n",
       "      <th>metrocuadrado_index</th>\n",
       "      <th>furnished</th>\n",
       "      <th>tipo_de_inmueble</th>\n",
       "      <th>tipo_de_oferta</th>\n",
       "      <th>location</th>\n",
       "      <th>price_per_m2_$/m2</th>\n",
       "      <th>garajes</th>\n",
       "      <th>Tipo_de_prod</th>\n",
       "    </tr>\n",
       "  </thead>\n",
       "  <tbody>\n",
       "    <tr>\n",
       "      <th>0</th>\n",
       "      <td>Casa en Arriendo, VILLA DE LOS ALPES II SECTOR...</td>\n",
       "      <td>750000</td>\n",
       "      <td>3</td>\n",
       "      <td>1</td>\n",
       "      <td>90.0</td>\n",
       "      <td>CASA DE TRES NIVELES TRES ALCOBAS SALA COMEDOR...</td>\n",
       "      <td>https://www.metrocuadrado.com/inmueble/arriend...</td>\n",
       "      <td>12.2</td>\n",
       "      <td>0</td>\n",
       "      <td>Casa</td>\n",
       "      <td>Arriendo</td>\n",
       "      <td>VILLA DE LOS ALPES II SECTOR Bogotá D.C..</td>\n",
       "      <td>8333.33</td>\n",
       "      <td>0</td>\n",
       "      <td>1</td>\n",
       "    </tr>\n",
       "    <tr>\n",
       "      <th>1</th>\n",
       "      <td>Casa en Arriendo, SANTA ANA ORIENTAL Bogotá D.C..</td>\n",
       "      <td>2700000</td>\n",
       "      <td>2</td>\n",
       "      <td>2</td>\n",
       "      <td>90.0</td>\n",
       "      <td>La ubicación exacta de la propiedad no se publ...</td>\n",
       "      <td>https://www.metrocuadrado.com/inmueble/arriend...</td>\n",
       "      <td>55.9</td>\n",
       "      <td>0</td>\n",
       "      <td>Casa</td>\n",
       "      <td>Arriendo</td>\n",
       "      <td>SANTA ANA ORIENTAL Bogotá D.C..</td>\n",
       "      <td>30000.00</td>\n",
       "      <td>1</td>\n",
       "      <td>1</td>\n",
       "    </tr>\n",
       "    <tr>\n",
       "      <th>2</th>\n",
       "      <td>Casa en Arriendo, ESTACION VICTORIA Bogotá D.C..</td>\n",
       "      <td>1500000</td>\n",
       "      <td>3</td>\n",
       "      <td>2</td>\n",
       "      <td>90.0</td>\n",
       "      <td>Excelente Jardin, Parqueadero interno a la cas...</td>\n",
       "      <td>https://www.metrocuadrado.com/inmueble/arriend...</td>\n",
       "      <td>28.7</td>\n",
       "      <td>0</td>\n",
       "      <td>Casa</td>\n",
       "      <td>Arriendo</td>\n",
       "      <td>ESTACION VICTORIA Bogotá D.C..</td>\n",
       "      <td>16666.67</td>\n",
       "      <td>1</td>\n",
       "      <td>1</td>\n",
       "    </tr>\n",
       "    <tr>\n",
       "      <th>3</th>\n",
       "      <td>Casa en Arriendo, AUTOPISTA MUZU Bogotá D.C..</td>\n",
       "      <td>1300000</td>\n",
       "      <td>4</td>\n",
       "      <td>2</td>\n",
       "      <td>90.0</td>\n",
       "      <td>Entrada con puerta metalica, sala comedor, coc...</td>\n",
       "      <td>https://www.metrocuadrado.com/inmueble/arriend...</td>\n",
       "      <td>38.8</td>\n",
       "      <td>0</td>\n",
       "      <td>Casa</td>\n",
       "      <td>Arriendo</td>\n",
       "      <td>AUTOPISTA MUZU Bogotá D.C..</td>\n",
       "      <td>14444.44</td>\n",
       "      <td>1</td>\n",
       "      <td>1</td>\n",
       "    </tr>\n",
       "    <tr>\n",
       "      <th>4</th>\n",
       "      <td>Casa en Arriendo, PORTALES DEL NORTE Bogotá D.C..</td>\n",
       "      <td>1325000</td>\n",
       "      <td>3</td>\n",
       "      <td>3</td>\n",
       "      <td>92.0</td>\n",
       "      <td>Casa en arriendo de tres niveles cerca a la Av...</td>\n",
       "      <td>https://www.metrocuadrado.com/inmueble/arriend...</td>\n",
       "      <td>50.0</td>\n",
       "      <td>0</td>\n",
       "      <td>Casa</td>\n",
       "      <td>Arriendo</td>\n",
       "      <td>PORTALES DEL NORTE Bogotá D.C..</td>\n",
       "      <td>14402.17</td>\n",
       "      <td>1</td>\n",
       "      <td>1</td>\n",
       "    </tr>\n",
       "    <tr>\n",
       "      <th>...</th>\n",
       "      <td>...</td>\n",
       "      <td>...</td>\n",
       "      <td>...</td>\n",
       "      <td>...</td>\n",
       "      <td>...</td>\n",
       "      <td>...</td>\n",
       "      <td>...</td>\n",
       "      <td>...</td>\n",
       "      <td>...</td>\n",
       "      <td>...</td>\n",
       "      <td>...</td>\n",
       "      <td>...</td>\n",
       "      <td>...</td>\n",
       "      <td>...</td>\n",
       "      <td>...</td>\n",
       "    </tr>\n",
       "    <tr>\n",
       "      <th>15626</th>\n",
       "      <td>Apartamento en Arriendo, LA CABRERA Bogotá D.C..</td>\n",
       "      <td>5000000</td>\n",
       "      <td>2</td>\n",
       "      <td>2</td>\n",
       "      <td>115.0</td>\n",
       "      <td>Lindo apartamento amoblado, ubicado en un sect...</td>\n",
       "      <td>https://www.metrocuadrado.com/inmueble/arriend...</td>\n",
       "      <td>73.7</td>\n",
       "      <td>1</td>\n",
       "      <td>Apartamento</td>\n",
       "      <td>Arriendo</td>\n",
       "      <td>LA CABRERA Bogotá D.C..</td>\n",
       "      <td>43478.26</td>\n",
       "      <td>1</td>\n",
       "      <td>8</td>\n",
       "    </tr>\n",
       "    <tr>\n",
       "      <th>15627</th>\n",
       "      <td>Apartamento en Arriendo, SANTA BARBARA OCCIDEN...</td>\n",
       "      <td>4390000</td>\n",
       "      <td>2</td>\n",
       "      <td>3</td>\n",
       "      <td>110.0</td>\n",
       "      <td>amoblado con terraza.</td>\n",
       "      <td>https://www.metrocuadrado.com/inmueble/arriend...</td>\n",
       "      <td>64.2</td>\n",
       "      <td>1</td>\n",
       "      <td>Apartamento</td>\n",
       "      <td>Arriendo</td>\n",
       "      <td>SANTA BARBARA OCCIDENTAL Bogotá D.C..</td>\n",
       "      <td>39909.09</td>\n",
       "      <td>2</td>\n",
       "      <td>8</td>\n",
       "    </tr>\n",
       "    <tr>\n",
       "      <th>15628</th>\n",
       "      <td>Apartamento en Arriendo, ANTIGUO COUNTRY Bogot...</td>\n",
       "      <td>4500000</td>\n",
       "      <td>2</td>\n",
       "      <td>3</td>\n",
       "      <td>120.0</td>\n",
       "      <td>Lindo apto en el sector de Chico Virrey, cerca...</td>\n",
       "      <td>https://www.metrocuadrado.com/inmueble/arriend...</td>\n",
       "      <td>55.4</td>\n",
       "      <td>1</td>\n",
       "      <td>Apartamento</td>\n",
       "      <td>Arriendo</td>\n",
       "      <td>ANTIGUO COUNTRY Bogotá D.C..</td>\n",
       "      <td>37500.00</td>\n",
       "      <td>2</td>\n",
       "      <td>8</td>\n",
       "    </tr>\n",
       "    <tr>\n",
       "      <th>15629</th>\n",
       "      <td>Apartamento en Arriendo, MOLINOS NORTE Bogotá ...</td>\n",
       "      <td>4100000</td>\n",
       "      <td>2</td>\n",
       "      <td>3</td>\n",
       "      <td>114.0</td>\n",
       "      <td>Hermoso apto, rodeado de verde por todos lados...</td>\n",
       "      <td>https://www.metrocuadrado.com/inmueble/arriend...</td>\n",
       "      <td>59.1</td>\n",
       "      <td>1</td>\n",
       "      <td>Apartamento</td>\n",
       "      <td>Arriendo</td>\n",
       "      <td>MOLINOS NORTE Bogotá D.C..</td>\n",
       "      <td>35964.91</td>\n",
       "      <td>2</td>\n",
       "      <td>8</td>\n",
       "    </tr>\n",
       "    <tr>\n",
       "      <th>15630</th>\n",
       "      <td>Apartamento en Arriendo, PLENITUD Bogotá D.C..</td>\n",
       "      <td>3800000</td>\n",
       "      <td>2</td>\n",
       "      <td>4</td>\n",
       "      <td>107.0</td>\n",
       "      <td>MAGNIFICO APARTAMENTO DUPLEX AMOBLADO, A DOS C...</td>\n",
       "      <td>https://www.metrocuadrado.com/inmueble/arriend...</td>\n",
       "      <td>68.9</td>\n",
       "      <td>1</td>\n",
       "      <td>Apartamento</td>\n",
       "      <td>Arriendo</td>\n",
       "      <td>PLENITUD Bogotá D.C..</td>\n",
       "      <td>35514.02</td>\n",
       "      <td>2</td>\n",
       "      <td>8</td>\n",
       "    </tr>\n",
       "  </tbody>\n",
       "</table>\n",
       "<p>15631 rows × 15 columns</p>\n",
       "</div>"
      ],
      "text/plain": [
       "                        property_type|rent_type|location  price_$ n_rooms  \\\n",
       "0      Casa en Arriendo, VILLA DE LOS ALPES II SECTOR...   750000       3   \n",
       "1      Casa en Arriendo, SANTA ANA ORIENTAL Bogotá D.C..  2700000       2   \n",
       "2       Casa en Arriendo, ESTACION VICTORIA Bogotá D.C..  1500000       3   \n",
       "3          Casa en Arriendo, AUTOPISTA MUZU Bogotá D.C..  1300000       4   \n",
       "4      Casa en Arriendo, PORTALES DEL NORTE Bogotá D.C..  1325000       3   \n",
       "...                                                  ...      ...     ...   \n",
       "15626   Apartamento en Arriendo, LA CABRERA Bogotá D.C..  5000000       2   \n",
       "15627  Apartamento en Arriendo, SANTA BARBARA OCCIDEN...  4390000       2   \n",
       "15628  Apartamento en Arriendo, ANTIGUO COUNTRY Bogot...  4500000       2   \n",
       "15629  Apartamento en Arriendo, MOLINOS NORTE Bogotá ...  4100000       2   \n",
       "15630     Apartamento en Arriendo, PLENITUD Bogotá D.C..  3800000       2   \n",
       "\n",
       "      n_bath  surface_m2                                            details  \\\n",
       "0          1        90.0  CASA DE TRES NIVELES TRES ALCOBAS SALA COMEDOR...   \n",
       "1          2        90.0  La ubicación exacta de la propiedad no se publ...   \n",
       "2          2        90.0  Excelente Jardin, Parqueadero interno a la cas...   \n",
       "3          2        90.0  Entrada con puerta metalica, sala comedor, coc...   \n",
       "4          3        92.0  Casa en arriendo de tres niveles cerca a la Av...   \n",
       "...      ...         ...                                                ...   \n",
       "15626      2       115.0  Lindo apartamento amoblado, ubicado en un sect...   \n",
       "15627      3       110.0                              amoblado con terraza.   \n",
       "15628      3       120.0  Lindo apto en el sector de Chico Virrey, cerca...   \n",
       "15629      3       114.0  Hermoso apto, rodeado de verde por todos lados...   \n",
       "15630      4       107.0  MAGNIFICO APARTAMENTO DUPLEX AMOBLADO, A DOS C...   \n",
       "\n",
       "                                                     url  metrocuadrado_index  \\\n",
       "0      https://www.metrocuadrado.com/inmueble/arriend...                 12.2   \n",
       "1      https://www.metrocuadrado.com/inmueble/arriend...                 55.9   \n",
       "2      https://www.metrocuadrado.com/inmueble/arriend...                 28.7   \n",
       "3      https://www.metrocuadrado.com/inmueble/arriend...                 38.8   \n",
       "4      https://www.metrocuadrado.com/inmueble/arriend...                 50.0   \n",
       "...                                                  ...                  ...   \n",
       "15626  https://www.metrocuadrado.com/inmueble/arriend...                 73.7   \n",
       "15627  https://www.metrocuadrado.com/inmueble/arriend...                 64.2   \n",
       "15628  https://www.metrocuadrado.com/inmueble/arriend...                 55.4   \n",
       "15629  https://www.metrocuadrado.com/inmueble/arriend...                 59.1   \n",
       "15630  https://www.metrocuadrado.com/inmueble/arriend...                 68.9   \n",
       "\n",
       "       furnished tipo_de_inmueble tipo_de_oferta  \\\n",
       "0              0             Casa       Arriendo   \n",
       "1              0             Casa       Arriendo   \n",
       "2              0             Casa       Arriendo   \n",
       "3              0             Casa       Arriendo   \n",
       "4              0             Casa       Arriendo   \n",
       "...          ...              ...            ...   \n",
       "15626          1      Apartamento       Arriendo   \n",
       "15627          1      Apartamento       Arriendo   \n",
       "15628          1      Apartamento       Arriendo   \n",
       "15629          1      Apartamento       Arriendo   \n",
       "15630          1      Apartamento       Arriendo   \n",
       "\n",
       "                                         location  price_per_m2_$/m2 garajes  \\\n",
       "0       VILLA DE LOS ALPES II SECTOR Bogotá D.C..            8333.33       0   \n",
       "1                 SANTA ANA ORIENTAL Bogotá D.C..           30000.00       1   \n",
       "2                  ESTACION VICTORIA Bogotá D.C..           16666.67       1   \n",
       "3                     AUTOPISTA MUZU Bogotá D.C..           14444.44       1   \n",
       "4                 PORTALES DEL NORTE Bogotá D.C..           14402.17       1   \n",
       "...                                           ...                ...     ...   \n",
       "15626                     LA CABRERA Bogotá D.C..           43478.26       1   \n",
       "15627       SANTA BARBARA OCCIDENTAL Bogotá D.C..           39909.09       2   \n",
       "15628                ANTIGUO COUNTRY Bogotá D.C..           37500.00       2   \n",
       "15629                  MOLINOS NORTE Bogotá D.C..           35964.91       2   \n",
       "15630                       PLENITUD Bogotá D.C..           35514.02       2   \n",
       "\n",
       "       Tipo_de_prod  \n",
       "0                 1  \n",
       "1                 1  \n",
       "2                 1  \n",
       "3                 1  \n",
       "4                 1  \n",
       "...             ...  \n",
       "15626             8  \n",
       "15627             8  \n",
       "15628             8  \n",
       "15629             8  \n",
       "15630             8  \n",
       "\n",
       "[15631 rows x 15 columns]"
      ]
     },
     "execution_count": 22,
     "metadata": {},
     "output_type": "execute_result"
    }
   ],
   "source": [
    "df"
   ]
  },
  {
   "cell_type": "markdown",
   "metadata": {},
   "source": [
    "## Pregunta 1, parte 5"
   ]
  },
  {
   "cell_type": "code",
   "execution_count": 23,
   "metadata": {},
   "outputs": [],
   "source": [
    "# packete que permite controlar el directorio de trabajo \n",
    "import os\n",
    "# path del directorio de trabajo \n",
    "cwd = os.getcwd()\n",
    "# cargar data\n",
    "df_upz = pd.read_csv(cwd[:-7]+'data\\\\asignacion_upz\\\\barrio-upz.csv')"
   ]
  },
  {
   "cell_type": "code",
   "execution_count": 24,
   "metadata": {},
   "outputs": [],
   "source": [
    "# se crea la columna location que es la columna 'location' de df, a la que \n",
    "# se le cambian todas las letras por minusculas y se le hace un split \n",
    "# para ver las palabras enlistadas   \n",
    "location = df['location'].str.lower()\n",
    "location = location.str.split(pat = \" \")\n",
    "\n",
    "# se crea la columna pro_location que es la columna 'pro_location' de df_upz, a la que \n",
    "# se le cambian todas las letras por minusculas y se le hace un split \n",
    "# para ver las palabras enlistadas   \n",
    "pro_location = df_upz['pro_location'].str.lower()\n",
    "pro_location = pro_location.str.split(pat = \" \")"
   ]
  },
  {
   "cell_type": "code",
   "execution_count": 35,
   "metadata": {
    "scrolled": true
   },
   "outputs": [],
   "source": [
    "# Se crea una lista con los codigos de upz de df_upz que corresponden a cada fila de df\n",
    "# en caso de que no se encuentre ningun representante en df_upz, se pone un -1\n",
    "# Se usa el hecho de que uan fila en df se puede asignar a lo mas a una fila en upz \n",
    "# (algoritmo celda siguiente)\n",
    "upz_list = []\n",
    "\n",
    "# Se elige un elemento (lista por el split) de location\n",
    "for name_df_completo in location:\n",
    "    # Se acorta para sacar el primer elemento (['']) y el los dos ultimos (['Bogota', 'D.C..'])\n",
    "    name_df = name_df_completo[1:-2] \n",
    "    # se fija un indice inicial para iterar sobre todos los indices de df_upz hasta encontrar\n",
    "    # un representante\n",
    "    indice_upz = 0  \n",
    "    index_encontrado = False \n",
    "    while not(index_encontrado) and indice_upz < len(pro_location):\n",
    "        # nos aseguramos que es una lista desde el split y no un 'nan'\n",
    "        if type(pro_location[indice_upz]) == list:\n",
    "            # vemos si pro_location[indice_upz] es el representante \n",
    "            if pro_location[indice_upz] == name_df:\n",
    "                # en este caso paramos el loop\n",
    "                index_encontrado = True \n",
    "            # sino, se continua con el otro indice \n",
    "            else:\n",
    "                indice_upz = indice_upz + 1\n",
    "        # sino, se continua con el otro indice \n",
    "        else:\n",
    "            indice_upz = indice_upz + 1 \n",
    "    # Luego terminar el loop, tenemos dos casos\n",
    "    # se encontro un indice\n",
    "    if index_encontrado:\n",
    "        upz_list.append(df_upz['UPlCodigo'][indice_upz]) \n",
    "    else:\n",
    "        upz_list.append(-1)"
   ]
  },
  {
   "cell_type": "code",
   "execution_count": 37,
   "metadata": {},
   "outputs": [],
   "source": [
    "# crear columna de codigo upz y agregar al dataframe df\n",
    "upz_code = pd.DataFrame(data={'upz_codigo': upz_list})\n",
    "df = pd.concat([df, upz_code], axis=1)"
   ]
  },
  {
   "cell_type": "code",
   "execution_count": 39,
   "metadata": {},
   "outputs": [
    {
     "name": "stdout",
     "output_type": "stream",
     "text": [
      "Numero de observaciones sin codigo upz asignado: 1713\n"
     ]
    }
   ],
   "source": [
    "# Numero de observaciones que no tienen codigo upz asignado\n",
    "print('Numero de observaciones sin codigo upz asignado:', df[df['upz_codigo'] == -1].shape[0])"
   ]
  },
  {
   "cell_type": "code",
   "execution_count": 41,
   "metadata": {},
   "outputs": [
    {
     "name": "stdout",
     "output_type": "stream",
     "text": [
      "Numero de barrios sin codigo upz: 150\n"
     ]
    }
   ],
   "source": [
    "# barrios que no tienen codigo upz asigando (sin repeticion por el set)\n",
    "barrios = set((df[df['upz_codigo'] == -1]['location']).tolist())\n",
    "# Numero de barrios sin codigo upz\n",
    "print('Numero de barrios sin codigo upz:', len(barrios))"
   ]
  },
  {
   "cell_type": "code",
   "execution_count": 69,
   "metadata": {},
   "outputs": [],
   "source": [
    "# Seleccionar solo las observaciones que tienen codigo upz\n",
    "df = df[df['upz_codigo'] != -1] \n",
    "df.reset_index(inplace = True)\n",
    "df = df[df.columns[1:]]"
   ]
  },
  {
   "cell_type": "markdown",
   "metadata": {},
   "source": [
    "## Pregunta 1, parte 6"
   ]
  },
  {
   "cell_type": "code",
   "execution_count": 51,
   "metadata": {},
   "outputs": [],
   "source": [
    "# cargar data estadisticas_poblacion.csv\n",
    "df_poblacion = pd.read_csv(cwd[:-7]+'data\\\\estadisticas_upz\\\\estadisticas_poblacion.csv')\n",
    "# cargar data indice_inseguridad.csv\n",
    "df_inseg = pd.read_csv(cwd[:-7]+'data\\\\estadisticas_upz\\\\indice_inseguridad.csv')\n",
    "# cargar data porcentaje_areas_verdes.csv\n",
    "df_a_verdes = pd.read_csv(cwd[:-7]+'data\\\\estadisticas_upz\\\\porcentaje_areas_verdes.csv')"
   ]
  },
  {
   "cell_type": "code",
   "execution_count": 71,
   "metadata": {},
   "outputs": [
    {
     "name": "stdout",
     "output_type": "stream",
     "text": [
      "Caso raro reportado\n"
     ]
    }
   ],
   "source": [
    "# crear columna con indice de inseguridad\n",
    "ins_list = []\n",
    "for index_df in range(df.shape[0]):\n",
    "    upz_code = df['upz_codigo'][index_df]\n",
    "    # Si hay exactamente 1 indice de inseguridad para la observacion la agrego\n",
    "    if df_inseg[df_inseg['UPlCodigo'] == upz_code].shape[0] == 1:\n",
    "        ins_ind = df_inseg[df_inseg['UPlCodigo'] == upz_code]['indice_inseguridad'].iloc[0]\n",
    "        ins_list.append(ins_ind)\n",
    "    # Si no, agrego un -1 a la lista \n",
    "    else:\n",
    "        print('Caso raro reportado')\n",
    "        ins_list.append(-1)"
   ]
  },
  {
   "cell_type": "code",
   "execution_count": 72,
   "metadata": {},
   "outputs": [],
   "source": [
    "# Nota: hay una observacion a la que no se puede agregar indice de inseguridad\n",
    "\n",
    "# Se crea la columna, se agrega al data frame, y se quita la observacion con\n",
    "# indice de inseguridad -1\n",
    "ins_ind = pd.DataFrame(data={'Indice_inseguridad': ins_list})\n",
    "df = pd.concat([df, ins_ind], axis=1)\n",
    "# Se quita la observaion y se resetean los indices\n",
    "df = df[df['Indice_inseguridad'] != -1] \n",
    "df.reset_index(inplace = True)\n",
    "df = df[df.columns[1:]]"
   ]
  },
  {
   "cell_type": "code",
   "execution_count": 79,
   "metadata": {},
   "outputs": [],
   "source": [
    "# crear columna con indice de areas_verdes_perc\n",
    "areas_list = []\n",
    "for index_df in range(df.shape[0]):\n",
    "    upz_code = float(df['upz_codigo'][index_df][3:])\n",
    "    # Si hay exactamente 1 indice de inseguridad para la observacion la agrego\n",
    "    if df_a_verdes[df_a_verdes['cod_upz'] == upz_code].shape[0] == 1:\n",
    "        areas_ind = df_a_verdes[df_a_verdes['cod_upz'] == upz_code]['areas_verdes_perc'].iloc[0]\n",
    "        areas_list.append(areas_ind)\n",
    "    # Si no, agrego un -1 a la lista \n",
    "    else:\n",
    "        print('Caso raro reportado')\n",
    "        areas_list.append(-1)"
   ]
  },
  {
   "cell_type": "code",
   "execution_count": 80,
   "metadata": {},
   "outputs": [],
   "source": [
    "# Se crea la columna, se agrega al data frame (no se quita el -1 porque no hay)\n",
    "areas_col = pd.DataFrame(data={'areas_verdes_perc': areas_list})\n",
    "df = pd.concat([df, areas_col], axis=1)"
   ]
  },
  {
   "cell_type": "code",
   "execution_count": 90,
   "metadata": {},
   "outputs": [],
   "source": [
    "# crear columnas con datos del data frame df_poblacion\n",
    "# como son 7 columnas, se les llamara solo por sus indices\n",
    "list_0_col = []\n",
    "list_1_col = []\n",
    "list_2_col = []\n",
    "list_3_col = []\n",
    "list_4_col = []\n",
    "list_5_col = []\n",
    "list_6_col = []\n",
    "\n",
    "for index_df in range(df.shape[0]):\n",
    "    upz_code = df['upz_codigo'][index_df]\n",
    "    # Si hay exactamente 1 indice de inseguridad para la observacion la agrego\n",
    "    if df_poblacion[df_poblacion['upz'] == upz_code].shape[0] == 1:\n",
    "        dato_0 = df_poblacion[df_poblacion['upz'] == upz_code][df_poblacion.columns[3]].iloc[0]\n",
    "        list_0_col.append(dato_0)\n",
    "        dato_1 = df_poblacion[df_poblacion['upz'] == upz_code][df_poblacion.columns[4]].iloc[0]\n",
    "        list_1_col.append(dato_1)\n",
    "        dato_2 = df_poblacion[df_poblacion['upz'] == upz_code][df_poblacion.columns[5]].iloc[0]\n",
    "        list_2_col.append(dato_2)\n",
    "        dato_3 = df_poblacion[df_poblacion['upz'] == upz_code][df_poblacion.columns[6]].iloc[0]\n",
    "        list_3_col.append(dato_3)\n",
    "        dato_4 = df_poblacion[df_poblacion['upz'] == upz_code][df_poblacion.columns[7]].iloc[0]\n",
    "        list_4_col.append(dato_4)\n",
    "        dato_5 = df_poblacion[df_poblacion['upz'] == upz_code][df_poblacion.columns[8]].iloc[0]\n",
    "        list_5_col.append(dato_5)\n",
    "        dato_6 = df_poblacion[df_poblacion['upz'] == upz_code][df_poblacion.columns[9]].iloc[0]\n",
    "        list_6_col.append(dato_6)\n",
    "    # Si no, agrego un -1 a la lista \n",
    "    else:\n",
    "        print('Caso raro reportado')\n",
    "        list_0_col.append(-1)\n",
    "        list_1_col.append(-1)\n",
    "        list_2_col.append(-1)\n",
    "        list_3_col.append(-1)\n",
    "        list_4_col.append(-1)\n",
    "        list_5_col.append(-1)\n",
    "        list_6_col.append(-1)"
   ]
  },
  {
   "cell_type": "code",
   "execution_count": 91,
   "metadata": {},
   "outputs": [],
   "source": [
    "# Se crean las columnas, se agrega al data frame (no se quita el -1 porque no hay)\n",
    "col_0 = pd.DataFrame(data={df_poblacion.columns[3]: list_0_col})\n",
    "df = pd.concat([df, col_0], axis=1)\n",
    "col_1 = pd.DataFrame(data={df_poblacion.columns[4]: list_1_col})\n",
    "df = pd.concat([df, col_1], axis=1)\n",
    "col_2 = pd.DataFrame(data={df_poblacion.columns[5]: list_2_col})\n",
    "df = pd.concat([df, col_2], axis=1)\n",
    "col_3 = pd.DataFrame(data={df_poblacion.columns[6]: list_3_col})\n",
    "df = pd.concat([df, col_3], axis=1)\n",
    "col_4 = pd.DataFrame(data={df_poblacion.columns[7]: list_4_col})\n",
    "df = pd.concat([df, col_4], axis=1)\n",
    "col_5 = pd.DataFrame(data={df_poblacion.columns[8]: list_5_col})\n",
    "df = pd.concat([df, col_5], axis=1)\n",
    "col_6 = pd.DataFrame(data={df_poblacion.columns[9]: list_6_col})\n",
    "df = pd.concat([df, col_6], axis=1)"
   ]
  },
  {
   "cell_type": "code",
   "execution_count": 102,
   "metadata": {},
   "outputs": [
    {
     "data": {
      "text/html": [
       "<div>\n",
       "<style scoped>\n",
       "    .dataframe tbody tr th:only-of-type {\n",
       "        vertical-align: middle;\n",
       "    }\n",
       "\n",
       "    .dataframe tbody tr th {\n",
       "        vertical-align: top;\n",
       "    }\n",
       "\n",
       "    .dataframe thead th {\n",
       "        text-align: right;\n",
       "    }\n",
       "</style>\n",
       "<table border=\"1\" class=\"dataframe\">\n",
       "  <thead>\n",
       "    <tr style=\"text-align: right;\">\n",
       "      <th></th>\n",
       "      <th>property_type|rent_type|location</th>\n",
       "      <th>price_$</th>\n",
       "      <th>n_rooms</th>\n",
       "      <th>n_bath</th>\n",
       "      <th>surface_m2</th>\n",
       "      <th>details</th>\n",
       "      <th>url</th>\n",
       "      <th>metrocuadrado_index</th>\n",
       "      <th>furnished</th>\n",
       "      <th>tipo_de_inmueble</th>\n",
       "      <th>...</th>\n",
       "      <th>personas</th>\n",
       "      <th>personas</th>\n",
       "      <th>personas</th>\n",
       "      <th>personas</th>\n",
       "      <th>personas</th>\n",
       "      <th>personas</th>\n",
       "      <th>personas</th>\n",
       "      <th>personas</th>\n",
       "      <th>personas</th>\n",
       "      <th>personas</th>\n",
       "    </tr>\n",
       "  </thead>\n",
       "  <tbody>\n",
       "    <tr>\n",
       "      <th>0</th>\n",
       "      <td>Casa en Arriendo, SANTA ANA ORIENTAL Bogotá D.C..</td>\n",
       "      <td>2700000</td>\n",
       "      <td>2</td>\n",
       "      <td>2</td>\n",
       "      <td>90.0</td>\n",
       "      <td>La ubicación exacta de la propiedad no se publ...</td>\n",
       "      <td>https://www.metrocuadrado.com/inmueble/arriend...</td>\n",
       "      <td>55.9</td>\n",
       "      <td>0</td>\n",
       "      <td>Casa</td>\n",
       "      <td>...</td>\n",
       "      <td>115124</td>\n",
       "      <td>115124</td>\n",
       "      <td>115124</td>\n",
       "      <td>115124</td>\n",
       "      <td>115124</td>\n",
       "      <td>115124</td>\n",
       "      <td>115124</td>\n",
       "      <td>115124</td>\n",
       "      <td>115124</td>\n",
       "      <td>115124</td>\n",
       "    </tr>\n",
       "    <tr>\n",
       "      <th>1</th>\n",
       "      <td>Casa en Arriendo, ESTACION VICTORIA Bogotá D.C..</td>\n",
       "      <td>1500000</td>\n",
       "      <td>3</td>\n",
       "      <td>2</td>\n",
       "      <td>90.0</td>\n",
       "      <td>Excelente Jardin, Parqueadero interno a la cas...</td>\n",
       "      <td>https://www.metrocuadrado.com/inmueble/arriend...</td>\n",
       "      <td>28.7</td>\n",
       "      <td>0</td>\n",
       "      <td>Casa</td>\n",
       "      <td>...</td>\n",
       "      <td>24897</td>\n",
       "      <td>24897</td>\n",
       "      <td>24897</td>\n",
       "      <td>24897</td>\n",
       "      <td>24897</td>\n",
       "      <td>24897</td>\n",
       "      <td>24897</td>\n",
       "      <td>24897</td>\n",
       "      <td>24897</td>\n",
       "      <td>24897</td>\n",
       "    </tr>\n",
       "    <tr>\n",
       "      <th>2</th>\n",
       "      <td>Casa en Arriendo, AUTOPISTA MUZU Bogotá D.C..</td>\n",
       "      <td>1300000</td>\n",
       "      <td>4</td>\n",
       "      <td>2</td>\n",
       "      <td>90.0</td>\n",
       "      <td>Entrada con puerta metalica, sala comedor, coc...</td>\n",
       "      <td>https://www.metrocuadrado.com/inmueble/arriend...</td>\n",
       "      <td>38.8</td>\n",
       "      <td>0</td>\n",
       "      <td>Casa</td>\n",
       "      <td>...</td>\n",
       "      <td>50106</td>\n",
       "      <td>50106</td>\n",
       "      <td>50106</td>\n",
       "      <td>50106</td>\n",
       "      <td>50106</td>\n",
       "      <td>50106</td>\n",
       "      <td>50106</td>\n",
       "      <td>50106</td>\n",
       "      <td>50106</td>\n",
       "      <td>50106</td>\n",
       "    </tr>\n",
       "    <tr>\n",
       "      <th>3</th>\n",
       "      <td>Casa en Arriendo, SANTA ANA OCCIDENTAL Bogotá ...</td>\n",
       "      <td>1800000</td>\n",
       "      <td>2</td>\n",
       "      <td>3</td>\n",
       "      <td>100.0</td>\n",
       "      <td>Casa muy bien ubicada, amplia con opción para ...</td>\n",
       "      <td>https://www.metrocuadrado.com/inmueble/arriend...</td>\n",
       "      <td>49.8</td>\n",
       "      <td>0</td>\n",
       "      <td>Casa</td>\n",
       "      <td>...</td>\n",
       "      <td>115124</td>\n",
       "      <td>115124</td>\n",
       "      <td>115124</td>\n",
       "      <td>115124</td>\n",
       "      <td>115124</td>\n",
       "      <td>115124</td>\n",
       "      <td>115124</td>\n",
       "      <td>115124</td>\n",
       "      <td>115124</td>\n",
       "      <td>115124</td>\n",
       "    </tr>\n",
       "    <tr>\n",
       "      <th>4</th>\n",
       "      <td>Casa en Arriendo, SANTA BARBARA Bogotá D.C..</td>\n",
       "      <td>850000</td>\n",
       "      <td>3</td>\n",
       "      <td>2</td>\n",
       "      <td>84.0</td>\n",
       "      <td>Oportunidad casa No  Conjunto Residencial Lago...</td>\n",
       "      <td>https://www.metrocuadrado.com/inmueble/arriend...</td>\n",
       "      <td>29.0</td>\n",
       "      <td>0</td>\n",
       "      <td>Casa</td>\n",
       "      <td>...</td>\n",
       "      <td>22440</td>\n",
       "      <td>22440</td>\n",
       "      <td>22440</td>\n",
       "      <td>22440</td>\n",
       "      <td>22440</td>\n",
       "      <td>22440</td>\n",
       "      <td>22440</td>\n",
       "      <td>22440</td>\n",
       "      <td>22440</td>\n",
       "      <td>22440</td>\n",
       "    </tr>\n",
       "    <tr>\n",
       "      <th>...</th>\n",
       "      <td>...</td>\n",
       "      <td>...</td>\n",
       "      <td>...</td>\n",
       "      <td>...</td>\n",
       "      <td>...</td>\n",
       "      <td>...</td>\n",
       "      <td>...</td>\n",
       "      <td>...</td>\n",
       "      <td>...</td>\n",
       "      <td>...</td>\n",
       "      <td>...</td>\n",
       "      <td>...</td>\n",
       "      <td>...</td>\n",
       "      <td>...</td>\n",
       "      <td>...</td>\n",
       "      <td>...</td>\n",
       "      <td>...</td>\n",
       "      <td>...</td>\n",
       "      <td>...</td>\n",
       "      <td>...</td>\n",
       "      <td>...</td>\n",
       "    </tr>\n",
       "    <tr>\n",
       "      <th>13912</th>\n",
       "      <td>Apartamento en Arriendo, LA CABRERA Bogotá D.C..</td>\n",
       "      <td>5000000</td>\n",
       "      <td>2</td>\n",
       "      <td>2</td>\n",
       "      <td>115.0</td>\n",
       "      <td>Lindo apartamento amoblado, ubicado en un sect...</td>\n",
       "      <td>https://www.metrocuadrado.com/inmueble/arriend...</td>\n",
       "      <td>73.7</td>\n",
       "      <td>1</td>\n",
       "      <td>Apartamento</td>\n",
       "      <td>...</td>\n",
       "      <td>52951</td>\n",
       "      <td>52951</td>\n",
       "      <td>52951</td>\n",
       "      <td>52951</td>\n",
       "      <td>52951</td>\n",
       "      <td>52951</td>\n",
       "      <td>52951</td>\n",
       "      <td>52951</td>\n",
       "      <td>52951</td>\n",
       "      <td>52951</td>\n",
       "    </tr>\n",
       "    <tr>\n",
       "      <th>13913</th>\n",
       "      <td>Apartamento en Arriendo, SANTA BARBARA OCCIDEN...</td>\n",
       "      <td>4390000</td>\n",
       "      <td>2</td>\n",
       "      <td>3</td>\n",
       "      <td>110.0</td>\n",
       "      <td>amoblado con terraza.</td>\n",
       "      <td>https://www.metrocuadrado.com/inmueble/arriend...</td>\n",
       "      <td>64.2</td>\n",
       "      <td>1</td>\n",
       "      <td>Apartamento</td>\n",
       "      <td>...</td>\n",
       "      <td>115124</td>\n",
       "      <td>115124</td>\n",
       "      <td>115124</td>\n",
       "      <td>115124</td>\n",
       "      <td>115124</td>\n",
       "      <td>115124</td>\n",
       "      <td>115124</td>\n",
       "      <td>115124</td>\n",
       "      <td>115124</td>\n",
       "      <td>115124</td>\n",
       "    </tr>\n",
       "    <tr>\n",
       "      <th>13914</th>\n",
       "      <td>Apartamento en Arriendo, ANTIGUO COUNTRY Bogot...</td>\n",
       "      <td>4500000</td>\n",
       "      <td>2</td>\n",
       "      <td>3</td>\n",
       "      <td>120.0</td>\n",
       "      <td>Lindo apto en el sector de Chico Virrey, cerca...</td>\n",
       "      <td>https://www.metrocuadrado.com/inmueble/arriend...</td>\n",
       "      <td>55.4</td>\n",
       "      <td>1</td>\n",
       "      <td>Apartamento</td>\n",
       "      <td>...</td>\n",
       "      <td>52951</td>\n",
       "      <td>52951</td>\n",
       "      <td>52951</td>\n",
       "      <td>52951</td>\n",
       "      <td>52951</td>\n",
       "      <td>52951</td>\n",
       "      <td>52951</td>\n",
       "      <td>52951</td>\n",
       "      <td>52951</td>\n",
       "      <td>52951</td>\n",
       "    </tr>\n",
       "    <tr>\n",
       "      <th>13915</th>\n",
       "      <td>Apartamento en Arriendo, MOLINOS NORTE Bogotá ...</td>\n",
       "      <td>4100000</td>\n",
       "      <td>2</td>\n",
       "      <td>3</td>\n",
       "      <td>114.0</td>\n",
       "      <td>Hermoso apto, rodeado de verde por todos lados...</td>\n",
       "      <td>https://www.metrocuadrado.com/inmueble/arriend...</td>\n",
       "      <td>59.1</td>\n",
       "      <td>1</td>\n",
       "      <td>Apartamento</td>\n",
       "      <td>...</td>\n",
       "      <td>115124</td>\n",
       "      <td>115124</td>\n",
       "      <td>115124</td>\n",
       "      <td>115124</td>\n",
       "      <td>115124</td>\n",
       "      <td>115124</td>\n",
       "      <td>115124</td>\n",
       "      <td>115124</td>\n",
       "      <td>115124</td>\n",
       "      <td>115124</td>\n",
       "    </tr>\n",
       "    <tr>\n",
       "      <th>13916</th>\n",
       "      <td>Apartamento en Arriendo, PLENITUD Bogotá D.C..</td>\n",
       "      <td>3800000</td>\n",
       "      <td>2</td>\n",
       "      <td>4</td>\n",
       "      <td>107.0</td>\n",
       "      <td>MAGNIFICO APARTAMENTO DUPLEX AMOBLADO, A DOS C...</td>\n",
       "      <td>https://www.metrocuadrado.com/inmueble/arriend...</td>\n",
       "      <td>68.9</td>\n",
       "      <td>1</td>\n",
       "      <td>Apartamento</td>\n",
       "      <td>...</td>\n",
       "      <td>52601</td>\n",
       "      <td>52601</td>\n",
       "      <td>52601</td>\n",
       "      <td>52601</td>\n",
       "      <td>52601</td>\n",
       "      <td>52601</td>\n",
       "      <td>52601</td>\n",
       "      <td>52601</td>\n",
       "      <td>52601</td>\n",
       "      <td>52601</td>\n",
       "    </tr>\n",
       "  </tbody>\n",
       "</table>\n",
       "<p>13917 rows × 34602 columns</p>\n",
       "</div>"
      ],
      "text/plain": [
       "                        property_type|rent_type|location  price_$ n_rooms  \\\n",
       "0      Casa en Arriendo, SANTA ANA ORIENTAL Bogotá D.C..  2700000       2   \n",
       "1       Casa en Arriendo, ESTACION VICTORIA Bogotá D.C..  1500000       3   \n",
       "2          Casa en Arriendo, AUTOPISTA MUZU Bogotá D.C..  1300000       4   \n",
       "3      Casa en Arriendo, SANTA ANA OCCIDENTAL Bogotá ...  1800000       2   \n",
       "4           Casa en Arriendo, SANTA BARBARA Bogotá D.C..   850000       3   \n",
       "...                                                  ...      ...     ...   \n",
       "13912   Apartamento en Arriendo, LA CABRERA Bogotá D.C..  5000000       2   \n",
       "13913  Apartamento en Arriendo, SANTA BARBARA OCCIDEN...  4390000       2   \n",
       "13914  Apartamento en Arriendo, ANTIGUO COUNTRY Bogot...  4500000       2   \n",
       "13915  Apartamento en Arriendo, MOLINOS NORTE Bogotá ...  4100000       2   \n",
       "13916     Apartamento en Arriendo, PLENITUD Bogotá D.C..  3800000       2   \n",
       "\n",
       "      n_bath  surface_m2                                            details  \\\n",
       "0          2        90.0  La ubicación exacta de la propiedad no se publ...   \n",
       "1          2        90.0  Excelente Jardin, Parqueadero interno a la cas...   \n",
       "2          2        90.0  Entrada con puerta metalica, sala comedor, coc...   \n",
       "3          3       100.0  Casa muy bien ubicada, amplia con opción para ...   \n",
       "4          2        84.0  Oportunidad casa No  Conjunto Residencial Lago...   \n",
       "...      ...         ...                                                ...   \n",
       "13912      2       115.0  Lindo apartamento amoblado, ubicado en un sect...   \n",
       "13913      3       110.0                              amoblado con terraza.   \n",
       "13914      3       120.0  Lindo apto en el sector de Chico Virrey, cerca...   \n",
       "13915      3       114.0  Hermoso apto, rodeado de verde por todos lados...   \n",
       "13916      4       107.0  MAGNIFICO APARTAMENTO DUPLEX AMOBLADO, A DOS C...   \n",
       "\n",
       "                                                     url  metrocuadrado_index  \\\n",
       "0      https://www.metrocuadrado.com/inmueble/arriend...                 55.9   \n",
       "1      https://www.metrocuadrado.com/inmueble/arriend...                 28.7   \n",
       "2      https://www.metrocuadrado.com/inmueble/arriend...                 38.8   \n",
       "3      https://www.metrocuadrado.com/inmueble/arriend...                 49.8   \n",
       "4      https://www.metrocuadrado.com/inmueble/arriend...                 29.0   \n",
       "...                                                  ...                  ...   \n",
       "13912  https://www.metrocuadrado.com/inmueble/arriend...                 73.7   \n",
       "13913  https://www.metrocuadrado.com/inmueble/arriend...                 64.2   \n",
       "13914  https://www.metrocuadrado.com/inmueble/arriend...                 55.4   \n",
       "13915  https://www.metrocuadrado.com/inmueble/arriend...                 59.1   \n",
       "13916  https://www.metrocuadrado.com/inmueble/arriend...                 68.9   \n",
       "\n",
       "       furnished tipo_de_inmueble  ...  personas  personas  personas  \\\n",
       "0              0             Casa  ...    115124    115124    115124   \n",
       "1              0             Casa  ...     24897     24897     24897   \n",
       "2              0             Casa  ...     50106     50106     50106   \n",
       "3              0             Casa  ...    115124    115124    115124   \n",
       "4              0             Casa  ...     22440     22440     22440   \n",
       "...          ...              ...  ...       ...       ...       ...   \n",
       "13912          1      Apartamento  ...     52951     52951     52951   \n",
       "13913          1      Apartamento  ...    115124    115124    115124   \n",
       "13914          1      Apartamento  ...     52951     52951     52951   \n",
       "13915          1      Apartamento  ...    115124    115124    115124   \n",
       "13916          1      Apartamento  ...     52601     52601     52601   \n",
       "\n",
       "       personas  personas  personas  personas  personas  personas  personas  \n",
       "0        115124    115124    115124    115124    115124    115124    115124  \n",
       "1         24897     24897     24897     24897     24897     24897     24897  \n",
       "2         50106     50106     50106     50106     50106     50106     50106  \n",
       "3        115124    115124    115124    115124    115124    115124    115124  \n",
       "4         22440     22440     22440     22440     22440     22440     22440  \n",
       "...         ...       ...       ...       ...       ...       ...       ...  \n",
       "13912     52951     52951     52951     52951     52951     52951     52951  \n",
       "13913    115124    115124    115124    115124    115124    115124    115124  \n",
       "13914     52951     52951     52951     52951     52951     52951     52951  \n",
       "13915    115124    115124    115124    115124    115124    115124    115124  \n",
       "13916     52601     52601     52601     52601     52601     52601     52601  \n",
       "\n",
       "[13917 rows x 34602 columns]"
      ]
     },
     "execution_count": 102,
     "metadata": {},
     "output_type": "execute_result"
    }
   ],
   "source": [
    "df[df.columns[:20]]"
   ]
  },
  {
   "cell_type": "code",
   "execution_count": 89,
   "metadata": {},
   "outputs": [
    {
     "ename": "IndexError",
     "evalue": "index 10 is out of bounds for axis 0 with size 10",
     "output_type": "error",
     "traceback": [
      "\u001b[1;31m---------------------------------------------------------------------------\u001b[0m",
      "\u001b[1;31mIndexError\u001b[0m                                Traceback (most recent call last)",
      "\u001b[1;32m<ipython-input-89-304fc452d120>\u001b[0m in \u001b[0;36m<module>\u001b[1;34m\u001b[0m\n\u001b[1;32m----> 1\u001b[1;33m \u001b[0mdf_poblacion\u001b[0m\u001b[1;33m.\u001b[0m\u001b[0mcolumns\u001b[0m\u001b[1;33m[\u001b[0m\u001b[1;36m10\u001b[0m\u001b[1;33m]\u001b[0m\u001b[1;33m\u001b[0m\u001b[1;33m\u001b[0m\u001b[0m\n\u001b[0m",
      "\u001b[1;32m~\\anaconda3\\lib\\site-packages\\pandas\\core\\indexes\\base.py\u001b[0m in \u001b[0;36m__getitem__\u001b[1;34m(self, key)\u001b[0m\n\u001b[0;32m   3928\u001b[0m         \u001b[1;32mif\u001b[0m \u001b[0mis_scalar\u001b[0m\u001b[1;33m(\u001b[0m\u001b[0mkey\u001b[0m\u001b[1;33m)\u001b[0m\u001b[1;33m:\u001b[0m\u001b[1;33m\u001b[0m\u001b[1;33m\u001b[0m\u001b[0m\n\u001b[0;32m   3929\u001b[0m             \u001b[0mkey\u001b[0m \u001b[1;33m=\u001b[0m \u001b[0mcom\u001b[0m\u001b[1;33m.\u001b[0m\u001b[0mcast_scalar_indexer\u001b[0m\u001b[1;33m(\u001b[0m\u001b[0mkey\u001b[0m\u001b[1;33m)\u001b[0m\u001b[1;33m\u001b[0m\u001b[1;33m\u001b[0m\u001b[0m\n\u001b[1;32m-> 3930\u001b[1;33m             \u001b[1;32mreturn\u001b[0m \u001b[0mgetitem\u001b[0m\u001b[1;33m(\u001b[0m\u001b[0mkey\u001b[0m\u001b[1;33m)\u001b[0m\u001b[1;33m\u001b[0m\u001b[1;33m\u001b[0m\u001b[0m\n\u001b[0m\u001b[0;32m   3931\u001b[0m \u001b[1;33m\u001b[0m\u001b[0m\n\u001b[0;32m   3932\u001b[0m         \u001b[1;32mif\u001b[0m \u001b[0misinstance\u001b[0m\u001b[1;33m(\u001b[0m\u001b[0mkey\u001b[0m\u001b[1;33m,\u001b[0m \u001b[0mslice\u001b[0m\u001b[1;33m)\u001b[0m\u001b[1;33m:\u001b[0m\u001b[1;33m\u001b[0m\u001b[1;33m\u001b[0m\u001b[0m\n",
      "\u001b[1;31mIndexError\u001b[0m: index 10 is out of bounds for axis 0 with size 10"
     ]
    }
   ],
   "source": [
    "df_poblacion.columns[10]"
   ]
  },
  {
   "cell_type": "code",
   "execution_count": 85,
   "metadata": {},
   "outputs": [
    {
     "data": {
      "text/plain": [
       "7"
      ]
     },
     "execution_count": 85,
     "metadata": {},
     "output_type": "execute_result"
    }
   ],
   "source": [
    "len(df_poblacion.columns[3:])"
   ]
  },
  {
   "cell_type": "code",
   "execution_count": null,
   "metadata": {},
   "outputs": [],
   "source": []
  },
  {
   "cell_type": "code",
   "execution_count": null,
   "metadata": {},
   "outputs": [],
   "source": []
  },
  {
   "cell_type": "code",
   "execution_count": null,
   "metadata": {},
   "outputs": [],
   "source": []
  },
  {
   "cell_type": "code",
   "execution_count": null,
   "metadata": {},
   "outputs": [],
   "source": []
  },
  {
   "cell_type": "code",
   "execution_count": null,
   "metadata": {},
   "outputs": [],
   "source": []
  },
  {
   "cell_type": "code",
   "execution_count": null,
   "metadata": {},
   "outputs": [],
   "source": []
  },
  {
   "cell_type": "code",
   "execution_count": null,
   "metadata": {},
   "outputs": [],
   "source": []
  },
  {
   "cell_type": "code",
   "execution_count": null,
   "metadata": {},
   "outputs": [],
   "source": []
  },
  {
   "cell_type": "code",
   "execution_count": null,
   "metadata": {},
   "outputs": [],
   "source": []
  },
  {
   "cell_type": "code",
   "execution_count": null,
   "metadata": {},
   "outputs": [],
   "source": []
  },
  {
   "cell_type": "code",
   "execution_count": null,
   "metadata": {},
   "outputs": [],
   "source": []
  },
  {
   "cell_type": "code",
   "execution_count": null,
   "metadata": {},
   "outputs": [],
   "source": []
  },
  {
   "cell_type": "code",
   "execution_count": null,
   "metadata": {},
   "outputs": [],
   "source": []
  },
  {
   "cell_type": "code",
   "execution_count": null,
   "metadata": {},
   "outputs": [],
   "source": []
  },
  {
   "cell_type": "code",
   "execution_count": null,
   "metadata": {},
   "outputs": [],
   "source": [
    "df"
   ]
  }
 ],
 "metadata": {
  "kernelspec": {
   "display_name": "Python 3",
   "language": "python",
   "name": "python3"
  },
  "language_info": {
   "codemirror_mode": {
    "name": "ipython",
    "version": 3
   },
   "file_extension": ".py",
   "mimetype": "text/x-python",
   "name": "python",
   "nbconvert_exporter": "python",
   "pygments_lexer": "ipython3",
   "version": "3.7.6"
  }
 },
 "nbformat": 4,
 "nbformat_minor": 4
}
