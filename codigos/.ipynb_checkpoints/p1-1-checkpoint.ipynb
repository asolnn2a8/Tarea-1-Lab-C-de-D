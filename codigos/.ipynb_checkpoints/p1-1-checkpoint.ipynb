{
 "cells": [
  {
   "cell_type": "markdown",
   "metadata": {},
   "source": [
    "# Pregunta 1, parte 1"
   ]
  },
  {
   "cell_type": "markdown",
   "metadata": {},
   "source": [
    "## Importacion"
   ]
  },
  {
   "cell_type": "code",
   "execution_count": 1,
   "metadata": {},
   "outputs": [],
   "source": [
    "import pandas as pd"
   ]
  },
  {
   "cell_type": "markdown",
   "metadata": {},
   "source": [
    "## Creación de constantes: Paths"
   ]
  },
  {
   "cell_type": "code",
   "execution_count": 2,
   "metadata": {},
   "outputs": [],
   "source": [
    "# Lista de las semanas, formato 'wNN'\n",
    "L_WNN = ['w' + str(week) for week in [13, 14, 15, 16, 17]] \n",
    "\n",
    "# Path de la data\n",
    "PATH_DATA = \"./../data/\"              \n",
    "# Path de la carpeta 'raw'\n",
    "PATH_RAW = PATH_DATA + \"raw/\"         \n",
    "# Diccionario de las carpetas wNN. Se ingresa con la llave 'wNN'\n",
    "DICT_PATH_RAW = {                     \n",
    "    wNN:PATH_RAW + wNN + \"/\" for wNN in L_WNN\n",
    "}\n",
    "\n",
    "# Diccionario de los path a los .csv de 'metrocuadrado_all_wNN.csv'\n",
    "DICT_CSV_MC_ALL = {                 \n",
    "    wNN:DICT_PATH_RAW[wNN]+'metrocuadrado_all_'+wNN+'.csv' for wNN in L_WNN\n",
    "}\n",
    "# Diccionario de los path a los .csv de 'metrocuadrado_furnished_wNN.csv'\n",
    "DICT_CSV_MC_FURNISHED = {          \n",
    "    wNN:DICT_PATH_RAW[wNN]+'metrocuadrado_furnished_'+wNN+'.csv' for wNN in L_WNN\n",
    "}\n"
   ]
  }
 ],
 "metadata": {
  "kernelspec": {
   "display_name": "Python 3",
   "language": "python",
   "name": "python3"
  },
  "language_info": {
   "codemirror_mode": {
    "name": "ipython",
    "version": 3
   },
   "file_extension": ".py",
   "mimetype": "text/x-python",
   "name": "python",
   "nbconvert_exporter": "python",
   "pygments_lexer": "ipython3",
   "version": "3.7.3"
  }
 },
 "nbformat": 4,
 "nbformat_minor": 4
}
