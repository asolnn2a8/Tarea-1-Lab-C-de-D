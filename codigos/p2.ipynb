{
 "cells": [
  {
   "cell_type": "markdown",
   "metadata": {},
   "source": [
    "# Pregunta 2 parte 1"
   ]
  },
  {
   "cell_type": "code",
   "execution_count": null,
   "metadata": {},
   "outputs": [],
   "source": [
    "import seaborn as sns\n",
    "import pandas as pd"
   ]
  },
  {
   "cell_type": "code",
   "execution_count": null,
   "metadata": {},
   "outputs": [],
   "source": [
    "dicc_context = {\n",
    "    'font.size': 16.0,\n",
    "    'axes.labelsize': 18.0,\n",
    "    'axes.titlesize': 18.0,\n",
    "    'xtick.labelsize': 16.5,\n",
    "    'ytick.labelsize': 16.5,\n",
    "    'legend.fontsize': 16.5,\n",
    "    'axes.linewidth': 1.25,\n",
    "    'grid.linewidth': 1.0,\n",
    "    'lines.linewidth': 1.5,\n",
    "    'lines.markersize': 6.0,\n",
    "    'patch.linewidth': 1.0,\n",
    "    'xtick.major.width': 1.25,\n",
    "    'ytick.major.width': 1.25,\n",
    "    'xtick.minor.width': 1.0,\n",
    "    'ytick.minor.width': 1.0,\n",
    "    'xtick.major.size': 6.0,\n",
    "    'ytick.major.size': 6.0,\n",
    "    'xtick.minor.size': 4.0,\n",
    "    'ytick.minor.size': 4.0\n",
    "}\n",
    "\n",
    "cont = sns.plotting_context(dicc_context)\n",
    "\n",
    "def formato():\n",
    "    # https://seaborn.pydata.org/generated/seaborn.set.html\n",
    "    sns.set(\n",
    "        context='paper', # https://seaborn.pydata.org/generated/seaborn.plotting_context.html#seaborn.plotting_context\n",
    "        style='whitegrid', # https://seaborn.pydata.org/generated/seaborn.axes_style.html#seaborn.axes_style\n",
    "        palette='deep', # https://seaborn.pydata.org/generated/seaborn.color_palette.html#seaborn.color_palette\n",
    "#         font_scale=1.5,\n",
    "#         rc=dicc_context\n",
    "    )\n",
    "    return None\n",
    "\n",
    "formato()\n",
    "df = sns.load_dataset(\"anscombe\")\n",
    "sns.lmplot(x=\"x\", y=\"y\", col=\"dataset\", hue=\"dataset\", data=df,\n",
    "           col_wrap=2, ci=None, palette=\"muted\", height=4,\n",
    "           scatter_kws={\"s\": 50, \"alpha\": 1})"
   ]
  },
  {
   "cell_type": "code",
   "execution_count": null,
   "metadata": {
    "scrolled": true
   },
   "outputs": [],
   "source": []
  },
  {
   "cell_type": "code",
   "execution_count": null,
   "metadata": {},
   "outputs": [],
   "source": []
  }
 ],
 "metadata": {
  "kernelspec": {
   "display_name": "Python 3",
   "language": "python",
   "name": "python3"
  },
  "language_info": {
   "codemirror_mode": {
    "name": "ipython",
    "version": 3
   },
   "file_extension": ".py",
   "mimetype": "text/x-python",
   "name": "python",
   "nbconvert_exporter": "python",
   "pygments_lexer": "ipython3",
   "version": "3.7.3"
  }
 },
 "nbformat": 4,
 "nbformat_minor": 4
}
