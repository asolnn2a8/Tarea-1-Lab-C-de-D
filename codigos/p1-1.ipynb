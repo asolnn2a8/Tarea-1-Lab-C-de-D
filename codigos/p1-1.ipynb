{
 "cells": [
  {
   "cell_type": "markdown",
   "metadata": {},
   "source": [
    "# Pregunta 1, parte 1"
   ]
  },
  {
   "cell_type": "markdown",
   "metadata": {},
   "source": [
    "## Importacion"
   ]
  },
  {
   "cell_type": "code",
   "execution_count": 1,
   "metadata": {},
   "outputs": [],
   "source": [
    "import pandas as pd\n",
    "from paths import *\n",
    "from functools import reduce"
   ]
  },
  {
   "cell_type": "code",
   "execution_count": 2,
   "metadata": {},
   "outputs": [],
   "source": [
    "# Documentación del módulo 'paths'.\n",
    "# import paths\n",
    "# help(paths)"
   ]
  },
  {
   "cell_type": "markdown",
   "metadata": {},
   "source": [
    "## Carga de datos"
   ]
  },
  {
   "cell_type": "markdown",
   "metadata": {},
   "source": [
    "### Creación de la tabla mezclada"
   ]
  },
  {
   "cell_type": "code",
   "execution_count": 29,
   "metadata": {
    "scrolled": false
   },
   "outputs": [
    {
     "data": {
      "text/html": [
       "<div>\n",
       "<style scoped>\n",
       "    .dataframe tbody tr th:only-of-type {\n",
       "        vertical-align: middle;\n",
       "    }\n",
       "\n",
       "    .dataframe tbody tr th {\n",
       "        vertical-align: top;\n",
       "    }\n",
       "\n",
       "    .dataframe thead th {\n",
       "        text-align: right;\n",
       "    }\n",
       "</style>\n",
       "<table border=\"1\" class=\"dataframe\">\n",
       "  <thead>\n",
       "    <tr style=\"text-align: right;\">\n",
       "      <th></th>\n",
       "      <th>property_type|rent_type|location</th>\n",
       "      <th>price</th>\n",
       "      <th>n_rooms</th>\n",
       "      <th>n_bath</th>\n",
       "      <th>surface</th>\n",
       "      <th>details</th>\n",
       "      <th>url</th>\n",
       "      <th>metrocuadrado_index</th>\n",
       "    </tr>\n",
       "  </thead>\n",
       "  <tbody>\n",
       "    <tr>\n",
       "      <th>0</th>\n",
       "      <td>Casa en Arriendo, LA SOLEDAD NORTE Bogotá D.C..</td>\n",
       "      <td>$1.050.000</td>\n",
       "      <td>3</td>\n",
       "      <td>2</td>\n",
       "      <td>63.0 m2</td>\n",
       "      <td>Excelente casa cerca de la calle 80 y Avenida ...</td>\n",
       "      <td>https://www.metrocuadrado.com/inmueble/arriend...</td>\n",
       "      <td>25.6</td>\n",
       "    </tr>\n",
       "    <tr>\n",
       "      <th>1</th>\n",
       "      <td>Casa en Arriendo, CIUDAD SALITRE SUR-ORIENTAL ...</td>\n",
       "      <td>$3.930.000</td>\n",
       "      <td>3</td>\n",
       "      <td>2</td>\n",
       "      <td>100.0 m2</td>\n",
       "      <td>Se arrienda casa bonita totalmente amoblada co...</td>\n",
       "      <td>https://www.metrocuadrado.com/inmueble/arriend...</td>\n",
       "      <td>57.3</td>\n",
       "    </tr>\n",
       "    <tr>\n",
       "      <th>2</th>\n",
       "      <td>Casa en Arriendo, VILLA DE LOS ALPES II SECTOR...</td>\n",
       "      <td>$750.000</td>\n",
       "      <td>3</td>\n",
       "      <td>1</td>\n",
       "      <td>90.0 m2</td>\n",
       "      <td>CASA DE TRES NIVELES TRES ALCOBAS SALA COMEDOR...</td>\n",
       "      <td>https://www.metrocuadrado.com/inmueble/arriend...</td>\n",
       "      <td>12.2</td>\n",
       "    </tr>\n",
       "    <tr>\n",
       "      <th>3</th>\n",
       "      <td>Casa en Arriendo, PARIS GAITAN Bogotá D.C..</td>\n",
       "      <td>$3.400.000</td>\n",
       "      <td>5</td>\n",
       "      <td>4</td>\n",
       "      <td>71.0 m2</td>\n",
       "      <td>casa ezquinera excelente ubicacion cinco alcob...</td>\n",
       "      <td>https://www.metrocuadrado.com/inmueble/arriend...</td>\n",
       "      <td>56.0</td>\n",
       "    </tr>\n",
       "    <tr>\n",
       "      <th>4</th>\n",
       "      <td>Casa en Arriendo, BALCONES DE ORIENTE Bogotá D...</td>\n",
       "      <td>$1.560.000</td>\n",
       "      <td>4</td>\n",
       "      <td>3</td>\n",
       "      <td>96.0 m2</td>\n",
       "      <td>Excelente casa de tres niveles, buena ubicació...</td>\n",
       "      <td>https://www.metrocuadrado.com/inmueble/arriend...</td>\n",
       "      <td>47.1</td>\n",
       "    </tr>\n",
       "  </tbody>\n",
       "</table>\n",
       "</div>"
      ],
      "text/plain": [
       "                    property_type|rent_type|location       price n_rooms  \\\n",
       "0    Casa en Arriendo, LA SOLEDAD NORTE Bogotá D.C..  $1.050.000       3   \n",
       "1  Casa en Arriendo, CIUDAD SALITRE SUR-ORIENTAL ...  $3.930.000       3   \n",
       "2  Casa en Arriendo, VILLA DE LOS ALPES II SECTOR...    $750.000       3   \n",
       "3        Casa en Arriendo, PARIS GAITAN Bogotá D.C..  $3.400.000       5   \n",
       "4  Casa en Arriendo, BALCONES DE ORIENTE Bogotá D...  $1.560.000       4   \n",
       "\n",
       "  n_bath   surface                                            details  \\\n",
       "0      2   63.0 m2  Excelente casa cerca de la calle 80 y Avenida ...   \n",
       "1      2  100.0 m2  Se arrienda casa bonita totalmente amoblada co...   \n",
       "2      1   90.0 m2  CASA DE TRES NIVELES TRES ALCOBAS SALA COMEDOR...   \n",
       "3      4   71.0 m2  casa ezquinera excelente ubicacion cinco alcob...   \n",
       "4      3   96.0 m2  Excelente casa de tres niveles, buena ubicació...   \n",
       "\n",
       "                                                 url  metrocuadrado_index  \n",
       "0  https://www.metrocuadrado.com/inmueble/arriend...                 25.6  \n",
       "1  https://www.metrocuadrado.com/inmueble/arriend...                 57.3  \n",
       "2  https://www.metrocuadrado.com/inmueble/arriend...                 12.2  \n",
       "3  https://www.metrocuadrado.com/inmueble/arriend...                 56.0  \n",
       "4  https://www.metrocuadrado.com/inmueble/arriend...                 47.1  "
      ]
     },
     "execution_count": 29,
     "metadata": {},
     "output_type": "execute_result"
    }
   ],
   "source": [
    "# Lista de DataFrames.\n",
    "L_DF = [pd.read_csv(dict_csv_mc_a[wNN]) for wNN in L_WNN]\n",
    "\n",
    "# Función merge para el 'reduce'\n",
    "def func_merge(df1, df2): return pd.merge(df1, df2, how='outer')\n",
    "\n",
    "# Reducimos L_DF con la función 'func_merge' \n",
    "df = reduce(func_merge, L_DF)\n",
    "\n",
    "# Quitamos las filas que sean iguales y reindexamos\n",
    "df.drop_duplicates(ignore_index=True, inplace=True)\n",
    "\n",
    "df.head()"
   ]
  },
  {
   "cell_type": "markdown",
   "metadata": {},
   "source": [
    "### Quitar filas que sean iguales"
   ]
  },
  {
   "cell_type": "code",
   "execution_count": 114,
   "metadata": {},
   "outputs": [],
   "source": [
    "# df1 = pd.read_csv(dict_csv_mc_a['w14']).drop_duplicates(ignore_index=True)\n",
    "# df2 = pd.read_csv(dict_csv_mc_f['w14']).drop_duplicates(ignore_index=True)\n",
    "# # pd.merge(df1, df2, how='inner')\n",
    "# # df2"
   ]
  },
  {
   "cell_type": "code",
   "execution_count": 115,
   "metadata": {},
   "outputs": [],
   "source": [
    "# df1['n_rooms'].dropna(inplace=True)\n",
    "# # df1['n_rooms'].astype('int')\n",
    "# for n in df1['n_rooms']:\n",
    "# #     print(n, type(n))\n",
    "#     pass\n",
    "# df1"
   ]
  },
  {
   "cell_type": "code",
   "execution_count": 116,
   "metadata": {},
   "outputs": [],
   "source": [
    "# df2.dropna(inplace=True)\n",
    "# # df2['n_bath'] = df2['n_bath'].dropna()\n",
    "# # df2['n_rooms'] = df2['n_rooms'].astype(int).astype(str)\n",
    "# # df2['n_bath'] = df2['n_bath'].astype(int).astype(str)\n",
    "# for n in df2['n_bath']:#.astype(int):#.astype(str):\n",
    "#     print(n)\n",
    "#     print(int(n))"
   ]
  }
 ],
 "metadata": {
  "kernelspec": {
   "display_name": "Python 3",
   "language": "python",
   "name": "python3"
  },
  "language_info": {
   "codemirror_mode": {
    "name": "ipython",
    "version": 3
   },
   "file_extension": ".py",
   "mimetype": "text/x-python",
   "name": "python",
   "nbconvert_exporter": "python",
   "pygments_lexer": "ipython3",
   "version": "3.7.3"
  }
 },
 "nbformat": 4,
 "nbformat_minor": 4
}
