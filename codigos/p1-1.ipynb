{
 "cells": [
  {
   "cell_type": "markdown",
   "metadata": {},
   "source": [
    "# Pregunta 1, parte 1"
   ]
  },
  {
   "cell_type": "markdown",
   "metadata": {},
   "source": [
    "## Importacion"
   ]
  },
  {
   "cell_type": "code",
   "execution_count": 1,
   "metadata": {},
   "outputs": [],
   "source": [
    "import pandas as pd\n",
    "from paths import *\n",
    "from functools import reduce"
   ]
  },
  {
   "cell_type": "code",
   "execution_count": 2,
   "metadata": {},
   "outputs": [],
   "source": [
    "# Documentación del módulo 'paths'.\n",
    "# import paths\n",
    "# help(paths)"
   ]
  },
  {
   "cell_type": "markdown",
   "metadata": {},
   "source": [
    "## Carga de datos"
   ]
  },
  {
   "cell_type": "markdown",
   "metadata": {},
   "source": [
    "### Creación de la tabla mezclada"
   ]
  },
  {
   "cell_type": "code",
   "execution_count": 9,
   "metadata": {
    "scrolled": false
   },
   "outputs": [],
   "source": [
    "# Cargar todos los csv en dos listas distinguidas por \n",
    "# la aparicion de 'furnished' en el nombre\n",
    "\n",
    "# Lista de DataFrames (Sin 'furnished' en el nombre)\n",
    "L_DF_a = [pd.read_csv(dict_csv_mc_a[wNN]) for wNN in L_WNN]\n",
    "# Lista de DataFrames (Con 'furnished' en el nombre)\n",
    "L_DF_f = [pd.read_csv(dict_csv_mc_f[wNN]) for wNN in L_WNN]"
   ]
  },
  {
   "cell_type": "code",
   "execution_count": 31,
   "metadata": {},
   "outputs": [],
   "source": [
    "# se unen todos los data_frame en cada lista con el comando concat\n",
    "DF_a = pd.concat(L_DF_a)\n",
    "DF_f = pd.concat(L_DF_f)\n",
    "\n",
    "# Se crea una columna con tantos ceros como la cantidad de filas de DF_a\n",
    "# y con tantos unos como la cantidad de filas de DF_f \n",
    "furnished_col = pd.DataFrame(data = {'furnished':[0]*(DF_a.shape[0]) + [1]*(DF_f.shape[0])})\n",
    "\n",
    "# Concateno los data frames DF_a y DF_f y le agrego al final la columna furnished_col\n",
    "df = pd.concat([DF_a,DF_f], ignore_index=True) \n",
    "df = pd.concat([df,furnished_col], axis=1) "
   ]
  },
  {
   "cell_type": "code",
   "execution_count": 35,
   "metadata": {},
   "outputs": [],
   "source": [
    "# Quitamos las filas que sean iguales en todas las columnas con excepcion de\n",
    "# la columna furnished y reindexamos\n",
    "df.drop_duplicates(subset = df.columns[:-1], ignore_index=True, inplace=True)\n",
    "\n",
    "# comentario: si hay filas duplicadas con distintos valores de furnished, se elimina la primera"
   ]
  },
  {
   "cell_type": "code",
   "execution_count": 39,
   "metadata": {},
   "outputs": [],
   "source": [
    "# reportar si Reporte si existen observaciones de archivos con texto ’furnished’ que no est´en\n",
    "# contenidos en archivos con texto ’all’"
   ]
  },
  {
   "cell_type": "markdown",
   "metadata": {},
   "source": [
    "## Pregunta 1, parte 2"
   ]
  },
  {
   "cell_type": "code",
   "execution_count": 11,
   "metadata": {},
   "outputs": [],
   "source": [
    "# Limpieza de datos"
   ]
  },
  {
   "cell_type": "code",
   "execution_count": null,
   "metadata": {},
   "outputs": [],
   "source": []
  },
  {
   "cell_type": "code",
   "execution_count": null,
   "metadata": {},
   "outputs": [],
   "source": []
  },
  {
   "cell_type": "code",
   "execution_count": null,
   "metadata": {},
   "outputs": [],
   "source": []
  },
  {
   "cell_type": "code",
   "execution_count": null,
   "metadata": {},
   "outputs": [],
   "source": []
  },
  {
   "cell_type": "code",
   "execution_count": null,
   "metadata": {},
   "outputs": [],
   "source": []
  },
  {
   "cell_type": "markdown",
   "metadata": {},
   "source": [
    "### Agregar los datos de `'furnished'`"
   ]
  },
  {
   "cell_type": "code",
   "execution_count": 3,
   "metadata": {},
   "outputs": [],
   "source": [
    "# Crear DataFrames\n",
    "df1 = pd.read_csv(dict_csv_mc_a['w14']).drop_duplicates(ignore_index=True)\n",
    "df2 = pd.read_csv(dict_csv_mc_f['w14']).drop_duplicates(ignore_index=True)"
   ]
  },
  {
   "cell_type": "code",
   "execution_count": 4,
   "metadata": {},
   "outputs": [
    {
     "data": {
      "text/plain": [
       "{'property_type|rent_type|location': 'Sin nombre',\n",
       " 'price': '$0',\n",
       " 'n_rooms': 'NA',\n",
       " 'n_bath': 'NA',\n",
       " 'surface': '0.0 m2',\n",
       " 'details': '',\n",
       " 'url': '',\n",
       " 'metrocuadrado_index': '0.0'}"
      ]
     },
     "execution_count": 4,
     "metadata": {},
     "output_type": "execute_result"
    }
   ],
   "source": [
    "# Creamos valores a reemplazar\n",
    "cols = df2.columns\n",
    "elem = ['Sin nombre', '$0', 'NA', 'NA', '0.0 m2', '', '', '0.0']\n",
    "n = cols.shape[0]\n",
    "\n",
    "valores_nulos = {\n",
    "    cols[i]:elem[i] for i in range(n)\n",
    "}\n",
    "valores_nulos"
   ]
  },
  {
   "cell_type": "code",
   "execution_count": 5,
   "metadata": {},
   "outputs": [],
   "source": [
    "# Reemplazamos los valores\n",
    "df2.fillna(value=valores_nulos, inplace=True)\n"
   ]
  },
  {
   "cell_type": "code",
   "execution_count": 6,
   "metadata": {},
   "outputs": [],
   "source": [
    "df2.fillna(value=valores_nulos, inplace=True)"
   ]
  },
  {
   "cell_type": "code",
   "execution_count": 7,
   "metadata": {},
   "outputs": [
    {
     "data": {
      "text/html": [
       "<div>\n",
       "<style scoped>\n",
       "    .dataframe tbody tr th:only-of-type {\n",
       "        vertical-align: middle;\n",
       "    }\n",
       "\n",
       "    .dataframe tbody tr th {\n",
       "        vertical-align: top;\n",
       "    }\n",
       "\n",
       "    .dataframe thead th {\n",
       "        text-align: right;\n",
       "    }\n",
       "</style>\n",
       "<table border=\"1\" class=\"dataframe\">\n",
       "  <thead>\n",
       "    <tr style=\"text-align: right;\">\n",
       "      <th></th>\n",
       "      <th>property_type|rent_type|location</th>\n",
       "      <th>price</th>\n",
       "      <th>n_rooms</th>\n",
       "      <th>n_bath</th>\n",
       "      <th>surface</th>\n",
       "      <th>details</th>\n",
       "      <th>url</th>\n",
       "      <th>metrocuadrado_index</th>\n",
       "    </tr>\n",
       "  </thead>\n",
       "  <tbody>\n",
       "    <tr>\n",
       "      <th>0</th>\n",
       "      <td>Casa en Arriendo, CIUDAD SALITRE SUR-ORIENTAL ...</td>\n",
       "      <td>$3.930.000</td>\n",
       "      <td>3</td>\n",
       "      <td>2</td>\n",
       "      <td>100.0 m2</td>\n",
       "      <td>Se arrienda casa bonita totalmente amoblada co...</td>\n",
       "      <td>https://www.metrocuadrado.com/inmueble/arriend...</td>\n",
       "      <td>57.3</td>\n",
       "    </tr>\n",
       "    <tr>\n",
       "      <th>1</th>\n",
       "      <td>Casa en Venta Y Arriendo, BELLAVISTA Bogotá D.C..</td>\n",
       "      <td>$1.300.000</td>\n",
       "      <td>3</td>\n",
       "      <td>2</td>\n",
       "      <td>72.0 m2</td>\n",
       "      <td>hermosa casa en venta y en arriendo en, mandal...</td>\n",
       "      <td>https://www.metrocuadrado.com/inmueble/venta-c...</td>\n",
       "      <td>41.4</td>\n",
       "    </tr>\n",
       "    <tr>\n",
       "      <th>2</th>\n",
       "      <td>Casa en Arriendo, PORTALES DEL NORTE Bogotá D.C..</td>\n",
       "      <td>$1.800.000</td>\n",
       "      <td>3</td>\n",
       "      <td>3</td>\n",
       "      <td>76.81 m2</td>\n",
       "      <td>Estrato 4. CASA TRIPLEX!! Exterior . Cuenta co...</td>\n",
       "      <td>https://www.metrocuadrado.com/inmueble/arriend...</td>\n",
       "      <td>41.3</td>\n",
       "    </tr>\n",
       "    <tr>\n",
       "      <th>3</th>\n",
       "      <td>Casa en Venta Y Arriendo, SANTA SOFIA Bogotá D...</td>\n",
       "      <td>$1.500.000</td>\n",
       "      <td>5</td>\n",
       "      <td>3</td>\n",
       "      <td>76.22 m2</td>\n",
       "      <td>Casa en Santa Sofia, excelente ubicación sobre...</td>\n",
       "      <td>https://www.metrocuadrado.com/inmueble/venta-c...</td>\n",
       "      <td>34.2</td>\n",
       "    </tr>\n",
       "    <tr>\n",
       "      <th>4</th>\n",
       "      <td>Casa en Venta Y Arriendo, URBANIZACION SABANA ...</td>\n",
       "      <td>$145.000.000</td>\n",
       "      <td>3</td>\n",
       "      <td>2</td>\n",
       "      <td>77.0 m2</td>\n",
       "      <td>Casa esquinera, de tres niveles, se venden mue...</td>\n",
       "      <td>https://www.metrocuadrado.com/inmueble/venta-c...</td>\n",
       "      <td>62.5</td>\n",
       "    </tr>\n",
       "    <tr>\n",
       "      <th>...</th>\n",
       "      <td>...</td>\n",
       "      <td>...</td>\n",
       "      <td>...</td>\n",
       "      <td>...</td>\n",
       "      <td>...</td>\n",
       "      <td>...</td>\n",
       "      <td>...</td>\n",
       "      <td>...</td>\n",
       "    </tr>\n",
       "    <tr>\n",
       "      <th>1592</th>\n",
       "      <td>Apartamento en Arriendo, SANTA BARBARA OCCIDEN...</td>\n",
       "      <td>$4.390.000</td>\n",
       "      <td>2</td>\n",
       "      <td>3</td>\n",
       "      <td>110.0 m2</td>\n",
       "      <td>amoblado con terraza.</td>\n",
       "      <td>https://www.metrocuadrado.com/inmueble/arriend...</td>\n",
       "      <td>64.2</td>\n",
       "    </tr>\n",
       "    <tr>\n",
       "      <th>1593</th>\n",
       "      <td>Apartamento en Arriendo, ANTIGUO COUNTRY Bogot...</td>\n",
       "      <td>$4.500.000</td>\n",
       "      <td>2</td>\n",
       "      <td>3</td>\n",
       "      <td>120.0 m2</td>\n",
       "      <td>Lindo apto en el sector de Chico Virrey, cerca...</td>\n",
       "      <td>https://www.metrocuadrado.com/inmueble/arriend...</td>\n",
       "      <td>55.4</td>\n",
       "    </tr>\n",
       "    <tr>\n",
       "      <th>1594</th>\n",
       "      <td>Apartamento en Arriendo, MOLINOS NORTE Bogotá ...</td>\n",
       "      <td>$4.100.000</td>\n",
       "      <td>2</td>\n",
       "      <td>3</td>\n",
       "      <td>114.0 m2</td>\n",
       "      <td>Hermoso apto, rodeado de verde por todos lados...</td>\n",
       "      <td>https://www.metrocuadrado.com/inmueble/arriend...</td>\n",
       "      <td>59.1</td>\n",
       "    </tr>\n",
       "    <tr>\n",
       "      <th>1595</th>\n",
       "      <td>Apartamento en Arriendo, EL NOGAL Bogotá D.C..</td>\n",
       "      <td>$8.450.000</td>\n",
       "      <td>2</td>\n",
       "      <td>2</td>\n",
       "      <td>175.0 m2</td>\n",
       "      <td>ESPECTACULAR APARTAMENTO CON COCINA ABIERTA, C...</td>\n",
       "      <td>https://www.metrocuadrado.com/inmueble/arriend...</td>\n",
       "      <td>60.2</td>\n",
       "    </tr>\n",
       "    <tr>\n",
       "      <th>1596</th>\n",
       "      <td>Apartamento en Arriendo, PLENITUD Bogotá D.C..</td>\n",
       "      <td>$3.800.000</td>\n",
       "      <td>2</td>\n",
       "      <td>4</td>\n",
       "      <td>107.0 m2</td>\n",
       "      <td>MAGNIFICO APARTAMENTO DUPLEX AMOBLADO, A DOS C...</td>\n",
       "      <td>https://www.metrocuadrado.com/inmueble/arriend...</td>\n",
       "      <td>68.9</td>\n",
       "    </tr>\n",
       "  </tbody>\n",
       "</table>\n",
       "<p>1597 rows × 8 columns</p>\n",
       "</div>"
      ],
      "text/plain": [
       "                       property_type|rent_type|location         price n_rooms  \\\n",
       "0     Casa en Arriendo, CIUDAD SALITRE SUR-ORIENTAL ...    $3.930.000       3   \n",
       "1     Casa en Venta Y Arriendo, BELLAVISTA Bogotá D.C..    $1.300.000       3   \n",
       "2     Casa en Arriendo, PORTALES DEL NORTE Bogotá D.C..    $1.800.000       3   \n",
       "3     Casa en Venta Y Arriendo, SANTA SOFIA Bogotá D...    $1.500.000       5   \n",
       "4     Casa en Venta Y Arriendo, URBANIZACION SABANA ...  $145.000.000       3   \n",
       "...                                                 ...           ...     ...   \n",
       "1592  Apartamento en Arriendo, SANTA BARBARA OCCIDEN...    $4.390.000       2   \n",
       "1593  Apartamento en Arriendo, ANTIGUO COUNTRY Bogot...    $4.500.000       2   \n",
       "1594  Apartamento en Arriendo, MOLINOS NORTE Bogotá ...    $4.100.000       2   \n",
       "1595     Apartamento en Arriendo, EL NOGAL Bogotá D.C..    $8.450.000       2   \n",
       "1596     Apartamento en Arriendo, PLENITUD Bogotá D.C..    $3.800.000       2   \n",
       "\n",
       "     n_bath   surface                                            details  \\\n",
       "0         2  100.0 m2  Se arrienda casa bonita totalmente amoblada co...   \n",
       "1         2   72.0 m2  hermosa casa en venta y en arriendo en, mandal...   \n",
       "2         3  76.81 m2  Estrato 4. CASA TRIPLEX!! Exterior . Cuenta co...   \n",
       "3         3  76.22 m2  Casa en Santa Sofia, excelente ubicación sobre...   \n",
       "4         2   77.0 m2  Casa esquinera, de tres niveles, se venden mue...   \n",
       "...     ...       ...                                                ...   \n",
       "1592      3  110.0 m2                              amoblado con terraza.   \n",
       "1593      3  120.0 m2  Lindo apto en el sector de Chico Virrey, cerca...   \n",
       "1594      3  114.0 m2  Hermoso apto, rodeado de verde por todos lados...   \n",
       "1595      2  175.0 m2  ESPECTACULAR APARTAMENTO CON COCINA ABIERTA, C...   \n",
       "1596      4  107.0 m2  MAGNIFICO APARTAMENTO DUPLEX AMOBLADO, A DOS C...   \n",
       "\n",
       "                                                    url  metrocuadrado_index  \n",
       "0     https://www.metrocuadrado.com/inmueble/arriend...                 57.3  \n",
       "1     https://www.metrocuadrado.com/inmueble/venta-c...                 41.4  \n",
       "2     https://www.metrocuadrado.com/inmueble/arriend...                 41.3  \n",
       "3     https://www.metrocuadrado.com/inmueble/venta-c...                 34.2  \n",
       "4     https://www.metrocuadrado.com/inmueble/venta-c...                 62.5  \n",
       "...                                                 ...                  ...  \n",
       "1592  https://www.metrocuadrado.com/inmueble/arriend...                 64.2  \n",
       "1593  https://www.metrocuadrado.com/inmueble/arriend...                 55.4  \n",
       "1594  https://www.metrocuadrado.com/inmueble/arriend...                 59.1  \n",
       "1595  https://www.metrocuadrado.com/inmueble/arriend...                 60.2  \n",
       "1596  https://www.metrocuadrado.com/inmueble/arriend...                 68.9  \n",
       "\n",
       "[1597 rows x 8 columns]"
      ]
     },
     "execution_count": 7,
     "metadata": {},
     "output_type": "execute_result"
    }
   ],
   "source": [
    "df2"
   ]
  },
  {
   "cell_type": "code",
   "execution_count": 8,
   "metadata": {},
   "outputs": [],
   "source": [
    "# prueba"
   ]
  },
  {
   "cell_type": "code",
   "execution_count": null,
   "metadata": {},
   "outputs": [],
   "source": []
  },
  {
   "cell_type": "code",
   "execution_count": null,
   "metadata": {},
   "outputs": [],
   "source": []
  },
  {
   "cell_type": "code",
   "execution_count": null,
   "metadata": {},
   "outputs": [],
   "source": []
  },
  {
   "cell_type": "code",
   "execution_count": null,
   "metadata": {},
   "outputs": [],
   "source": []
  },
  {
   "cell_type": "code",
   "execution_count": null,
   "metadata": {},
   "outputs": [],
   "source": []
  }
 ],
 "metadata": {
  "kernelspec": {
   "display_name": "Python 3",
   "language": "python",
   "name": "python3"
  },
  "language_info": {
   "codemirror_mode": {
    "name": "ipython",
    "version": 3
   },
   "file_extension": ".py",
   "mimetype": "text/x-python",
   "name": "python",
   "nbconvert_exporter": "python",
   "pygments_lexer": "ipython3",
   "version": "3.7.6"
  }
 },
 "nbformat": 4,
 "nbformat_minor": 4
}
