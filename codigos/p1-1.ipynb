{
 "cells": [
  {
   "cell_type": "markdown",
   "metadata": {},
   "source": [
    "# Pregunta 1, parte 1"
   ]
  },
  {
   "cell_type": "markdown",
   "metadata": {},
   "source": [
    "## Importacion"
   ]
  },
  {
   "cell_type": "code",
   "execution_count": 1,
   "metadata": {},
   "outputs": [],
   "source": [
    "import pandas as pd\n",
    "import paths\n",
    "from paths import *"
   ]
  },
  {
   "cell_type": "code",
   "execution_count": 2,
   "metadata": {},
   "outputs": [
    {
     "name": "stdout",
     "output_type": "stream",
     "text": [
      "Help on module paths:\n",
      "\n",
      "NAME\n",
      "    paths - Modulo de los distintos Paths que se dispone para la tarea.\n",
      "\n",
      "DESCRIPTION\n",
      "    L_WNN -> list[str]:\n",
      "        Lista con las semanas en formato 'wNN', donde NN es un valor entre 14 y 17.\n",
      "    \n",
      "    PATH_DATA -> str:\n",
      "        Path para la carpeta 'data'.\n",
      "    PATH_RAW -> str:\n",
      "        Path para la carpeta 'raw'.\n",
      "    \n",
      "    dict_path_raw -> dict[str]:\n",
      "        Diccionario de las distintas rutas de las carpetas 'wNN'.\n",
      "    dict_csv_mc_a -> dict[str]:\n",
      "        Diccionario de las distintas rutas para acceder a los \n",
      "        archivos .csv del formato 'metrocuadrado_all_wNN.csv'.\n",
      "    dict_csv_mc_f -> dict[str]:\n",
      "        Diccionario de las distintas rutas para acceder a los \n",
      "        archivos .csv del formato 'metrocuadrado_furnished_wNN.csv'.\n",
      "\n",
      "DATA\n",
      "    L_WNN = ['w13', 'w14', 'w15', 'w16', 'w17']\n",
      "    MC_A = 'metrocuadrado_all_'\n",
      "    MC_F = 'metrocuadrado_furnished_'\n",
      "    PATH_DATA = r'..\\data'\n",
      "    PATH_RAW = r'..\\data\\raw'\n",
      "    dict_csv_mc_a = {'w13': r'..\\data\\raw\\w13\\metrocuadrado_all_w13.csv', ...\n",
      "    dict_csv_mc_f = {'w13': r'..\\data\\raw\\w13\\metrocuadrado_furnished_w13....\n",
      "    dict_path_raw = {'w13': r'..\\data\\raw\\w13', 'w14': r'..\\data\\raw\\w14',...\n",
      "\n",
      "FILE\n",
      "    c:\\users\\asoln\\desktop\\proyectos\\tareas\\tarea-1-lab-c-de-d\\codigos\\paths.py\n",
      "\n",
      "\n"
     ]
    }
   ],
   "source": [
    "help(paths)"
   ]
  },
  {
   "cell_type": "markdown",
   "metadata": {},
   "source": [
    "## Carga de datos"
   ]
  },
  {
   "cell_type": "code",
   "execution_count": 6,
   "metadata": {},
   "outputs": [],
   "source": [
    "for wNN in L_WNN:\n",
    "    pass\n",
    "df1 = pd.read_csv(dict_csv_mc_a['w14'])\n",
    "df2 = pd.read_csv(dict_csv_mc_a['w15'])"
   ]
  }
 ],
 "metadata": {
  "kernelspec": {
   "display_name": "Python 3",
   "language": "python",
   "name": "python3"
  },
  "language_info": {
   "codemirror_mode": {
    "name": "ipython",
    "version": 3
   },
   "file_extension": ".py",
   "mimetype": "text/x-python",
   "name": "python",
   "nbconvert_exporter": "python",
   "pygments_lexer": "ipython3",
   "version": "3.7.3"
  }
 },
 "nbformat": 4,
 "nbformat_minor": 4
}
